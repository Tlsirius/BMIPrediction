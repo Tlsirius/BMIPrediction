{
  "nbformat": 4,
  "nbformat_minor": 0,
  "metadata": {
    "colab": {
      "name": "WeightPredict.ipynb",
      "version": "0.3.2",
      "provenance": [],
      "collapsed_sections": [],
      "toc_visible": true
    },
    "kernelspec": {
      "name": "python3",
      "display_name": "Python 3"
    },
    "accelerator": "GPU"
  },
  "cells": [
    {
      "cell_type": "markdown",
      "metadata": {
        "id": "v7Ks1qcR1kMz",
        "colab_type": "text"
      },
      "source": [
        "#Weight/BMI Prediction Based on Face Image\n"
      ]
    },
    {
      "cell_type": "markdown",
      "metadata": {
        "id": "r_f_qCrpsllG",
        "colab_type": "text"
      },
      "source": [
        "# Preparation\n",
        "import module and load dataset    \n",
        "Dataset is collected from       \n",
        "Contains 900+ images with height and weight data"
      ]
    },
    {
      "cell_type": "code",
      "metadata": {
        "id": "Guea58WTJ4Gx",
        "colab_type": "code",
        "outputId": "b37d37ac-f970-4917-db9b-98ccc1d1de3a",
        "colab": {
          "base_uri": "https://localhost:8080/",
          "height": 490
        }
      },
      "source": [
        "!pip install tensorflow-gpu==2.0.0-alpha0"
      ],
      "execution_count": 0,
      "outputs": [
        {
          "output_type": "stream",
          "text": [
            "Collecting tensorflow-gpu==2.0.0-alpha0\n",
            "\u001b[?25l  Downloading https://files.pythonhosted.org/packages/1a/66/32cffad095253219d53f6b6c2a436637bbe45ac4e7be0244557210dc3918/tensorflow_gpu-2.0.0a0-cp36-cp36m-manylinux1_x86_64.whl (332.1MB)\n",
            "\u001b[K     |████████████████████████████████| 332.1MB 71kB/s \n",
            "\u001b[?25hRequirement already satisfied: astor>=0.6.0 in /usr/local/lib/python3.6/dist-packages (from tensorflow-gpu==2.0.0-alpha0) (0.8.0)\n",
            "Requirement already satisfied: protobuf>=3.6.1 in /usr/local/lib/python3.6/dist-packages (from tensorflow-gpu==2.0.0-alpha0) (3.7.1)\n",
            "Requirement already satisfied: gast>=0.2.0 in /usr/local/lib/python3.6/dist-packages (from tensorflow-gpu==2.0.0-alpha0) (0.2.2)\n",
            "Requirement already satisfied: keras-preprocessing>=1.0.5 in /usr/local/lib/python3.6/dist-packages (from tensorflow-gpu==2.0.0-alpha0) (1.1.0)\n",
            "Requirement already satisfied: six>=1.10.0 in /usr/local/lib/python3.6/dist-packages (from tensorflow-gpu==2.0.0-alpha0) (1.12.0)\n",
            "Requirement already satisfied: wheel>=0.26 in /usr/local/lib/python3.6/dist-packages (from tensorflow-gpu==2.0.0-alpha0) (0.33.4)\n",
            "Requirement already satisfied: numpy<2.0,>=1.14.5 in /usr/local/lib/python3.6/dist-packages (from tensorflow-gpu==2.0.0-alpha0) (1.16.4)\n",
            "Collecting tb-nightly<1.14.0a20190302,>=1.14.0a20190301 (from tensorflow-gpu==2.0.0-alpha0)\n",
            "\u001b[?25l  Downloading https://files.pythonhosted.org/packages/a9/51/aa1d756644bf4624c03844115e4ac4058eff77acd786b26315f051a4b195/tb_nightly-1.14.0a20190301-py3-none-any.whl (3.0MB)\n",
            "\u001b[K     |████████████████████████████████| 3.0MB 35.0MB/s \n",
            "\u001b[?25hCollecting tf-estimator-nightly<1.14.0.dev2019030116,>=1.14.0.dev2019030115 (from tensorflow-gpu==2.0.0-alpha0)\n",
            "\u001b[?25l  Downloading https://files.pythonhosted.org/packages/13/82/f16063b4eed210dc2ab057930ac1da4fbe1e91b7b051a6c8370b401e6ae7/tf_estimator_nightly-1.14.0.dev2019030115-py2.py3-none-any.whl (411kB)\n",
            "\u001b[K     |████████████████████████████████| 419kB 49.6MB/s \n",
            "\u001b[?25hRequirement already satisfied: grpcio>=1.8.6 in /usr/local/lib/python3.6/dist-packages (from tensorflow-gpu==2.0.0-alpha0) (1.15.0)\n",
            "Requirement already satisfied: absl-py>=0.7.0 in /usr/local/lib/python3.6/dist-packages (from tensorflow-gpu==2.0.0-alpha0) (0.7.1)\n",
            "Requirement already satisfied: google-pasta>=0.1.2 in /usr/local/lib/python3.6/dist-packages (from tensorflow-gpu==2.0.0-alpha0) (0.1.7)\n",
            "Requirement already satisfied: keras-applications>=1.0.6 in /usr/local/lib/python3.6/dist-packages (from tensorflow-gpu==2.0.0-alpha0) (1.0.8)\n",
            "Requirement already satisfied: termcolor>=1.1.0 in /usr/local/lib/python3.6/dist-packages (from tensorflow-gpu==2.0.0-alpha0) (1.1.0)\n",
            "Requirement already satisfied: setuptools in /usr/local/lib/python3.6/dist-packages (from protobuf>=3.6.1->tensorflow-gpu==2.0.0-alpha0) (41.0.1)\n",
            "Requirement already satisfied: werkzeug>=0.11.15 in /usr/local/lib/python3.6/dist-packages (from tb-nightly<1.14.0a20190302,>=1.14.0a20190301->tensorflow-gpu==2.0.0-alpha0) (0.15.4)\n",
            "Requirement already satisfied: markdown>=2.6.8 in /usr/local/lib/python3.6/dist-packages (from tb-nightly<1.14.0a20190302,>=1.14.0a20190301->tensorflow-gpu==2.0.0-alpha0) (3.1.1)\n",
            "Requirement already satisfied: h5py in /usr/local/lib/python3.6/dist-packages (from keras-applications>=1.0.6->tensorflow-gpu==2.0.0-alpha0) (2.8.0)\n",
            "Installing collected packages: tb-nightly, tf-estimator-nightly, tensorflow-gpu\n",
            "Successfully installed tb-nightly-1.14.0a20190301 tensorflow-gpu-2.0.0a0 tf-estimator-nightly-1.14.0.dev2019030115\n"
          ],
          "name": "stdout"
        }
      ]
    },
    {
      "cell_type": "code",
      "metadata": {
        "id": "oAQ9lWC-LY17",
        "colab_type": "code",
        "colab": {}
      },
      "source": [
        "%matplotlib inline\n",
        "import matplotlib.pyplot as plt\n",
        "\n",
        "import os, json\n",
        "\n",
        "from tensorflow.keras.preprocessing import image\n",
        "\n",
        "from tensorflow.keras.models import Model,load_model,Sequential\n",
        "\n",
        "from tensorflow.keras.callbacks import ModelCheckpoint, Callback\n",
        "\n",
        "from tensorflow.keras.layers import Dense, GlobalAveragePooling2D, GlobalMaxPooling2D, Dropout,Flatten, Input\n",
        "from tensorflow.keras import backend as K\n",
        "\n",
        "import tensorflow as tf\n",
        "\n",
        "import cv2\n"
      ],
      "execution_count": 0,
      "outputs": []
    },
    {
      "cell_type": "code",
      "metadata": {
        "id": "6126tU35RlyV",
        "colab_type": "code",
        "outputId": "f342de65-23e2-4204-cb4f-8d12bd8427d3",
        "colab": {
          "base_uri": "https://localhost:8080/",
          "height": 34
        }
      },
      "source": [
        "import tensorflow as tf\n",
        "device_name = tf.test.gpu_device_name()\n",
        "if device_name != '/device:GPU:0':\n",
        "  raise SystemError('GPU device not found')\n",
        "print('Found GPU at: {}'.format(device_name))"
      ],
      "execution_count": 0,
      "outputs": [
        {
          "output_type": "stream",
          "text": [
            "Found GPU at: /device:GPU:0\n"
          ],
          "name": "stdout"
        }
      ]
    },
    {
      "cell_type": "code",
      "metadata": {
        "id": "lBoLXEr_Sg2G",
        "colab_type": "code",
        "outputId": "f05477ce-c745-44fc-8ff1-d6bd26334d6d",
        "colab": {
          "base_uri": "https://localhost:8080/",
          "height": 50
        }
      },
      "source": [
        "print(tf.keras.__version__)\n",
        "print(tf.__version__)"
      ],
      "execution_count": 0,
      "outputs": [
        {
          "output_type": "stream",
          "text": [
            "2.2.4-tf\n",
            "2.0.0-alpha0\n"
          ],
          "name": "stdout"
        }
      ]
    },
    {
      "cell_type": "code",
      "metadata": {
        "id": "KoI5wgfDOr-0",
        "colab_type": "code",
        "outputId": "bf474102-ea91-47ff-feb6-968643dd6863",
        "colab": {
          "base_uri": "https://localhost:8080/",
          "height": 34
        }
      },
      "source": [
        "#download the dataset\n",
        "# data is collected from Internet\n",
        "\n",
        "!rm -r ./dataset\n",
        "!wget -qq https://www.dropbox.com/s/zgofhkeeu5ywato/dataset.zip\n",
        "  \n",
        "!unzip -qq dataset.zip\n",
        "!rm dataset.zip\n",
        "\n",
        "# download test image\n",
        "!wget -qq https://www.dropbox.com/s/uxkorucs9arwfzf/brunomars.jpg\n",
        "!wget -qq https://www.dropbox.com/s/giwov996mspe70e/yaoming.jpg\n",
        "\n",
        "\n",
        "path = \"./dataset/img/\"\n",
        "y=0\n",
        "x=120\n",
        "h=480\n",
        "w=480\n",
        "\n",
        "#crop&resize the image to 224*224\n",
        "#also flip the images and add to dataset\n",
        "for root, dirs, files in os.walk(path, topdown=True):\n",
        "  for name in files:\n",
        "    img = cv2.imread(path+name)\n",
        "    crop_img = img[y:y+h, x:x+w]\n",
        "    resize_img = cv2.resize(crop_img, (224, 224), interpolation=cv2.INTER_CUBIC)\n",
        "    \n",
        "    flip_img = cv2.flip(resize_img, 1)  \n",
        "    cv2.imwrite(path+name, resize_img)\n",
        "    cv2.imwrite(path+\"flip_\"+name, flip_img)\n",
        "    "
      ],
      "execution_count": 0,
      "outputs": [
        {
          "output_type": "stream",
          "text": [
            "rm: cannot remove './dataset': No such file or directory\n"
          ],
          "name": "stdout"
        }
      ]
    },
    {
      "cell_type": "markdown",
      "metadata": {
        "id": "e14NoL0RtPTT",
        "colab_type": "text"
      },
      "source": [
        "# 1. Weight Prediction\n",
        "\n",
        "\n",
        "Predict weight with a transfer-learning network based on VGG16"
      ]
    },
    {
      "cell_type": "code",
      "metadata": {
        "id": "kCpoS8tq3nAG",
        "colab_type": "code",
        "outputId": "18c98198-2a9c-4470-de72-a99fb646abf1",
        "colab": {
          "base_uri": "https://localhost:8080/",
          "height": 54
        }
      },
      "source": [
        "#read label file to construct a weight dictionary\n",
        "weightmap = dict();\n",
        "\n",
        "labels = open(\"./dataset/label.txt\", \"r\")\n",
        "for line in labels:\n",
        "  idx = line.find('\\t')\n",
        "  if line[:idx] != \"ID\":\n",
        "    filename = line[:idx]\n",
        "\n",
        "    idx1 = line.rfind('\\t')\n",
        "    idx2 = line.rfind('\\n')\n",
        "    pound = float(line[idx1+1:idx2])\n",
        "    weightmap[filename]=0.4536*pound\n",
        "    \n",
        "weightmap.items()"
      ],
      "execution_count": 0,
      "outputs": [
        {
          "output_type": "execute_result",
          "data": {
            "text/plain": [
              "dict_items([('290060', 90.72), ('290079', 97.524), ('290098', 76.2048), ('290118', 86.184), ('290147', 56.7), ('290167', 68.04), ('290173', 62.1432), ('290182', 68.04), ('290201', 77.112), ('290206', 172.368), ('290248', 72.576), ('290250', 94.3488), ('290267', 97.524), ('290268', 91.6272), ('290273', 95.256), ('290302', 58.968), ('290310', 99.792), ('290328', 72.576), ('290339', 65.772), ('290350', 90.72), ('290352', 74.844), ('290376', 90.72), ('290384', 65.772), ('290391', 90.72), ('290392', 115.668), ('290394', 86.184), ('290418', 74.844), ('290434', 74.844), ('290503', 86.184), ('290504', 81.648), ('290505', 58.968), ('290566', 86.184), ('290619', 113.4), ('290635', 68.04), ('290637', 77.112), ('290641', 72.576), ('290642', 72.576), ('290667', 72.576), ('290685', 79.38), ('290691', 99.792), ('290695', 87.0912), ('290698', 122.472), ('290716', 102.06), ('290718', 81.648), ('290727', 108.864), ('290750', 113.4), ('290774', 117.4824), ('290805', 56.7), ('290817', 104.328), ('290882', 70.308), ('290915', 92.988), ('290918', 97.524), ('290972', 108.864), ('290974', 106.596), ('290975', 79.38), ('290987', 52.164), ('290988', 67.1328), ('291027', 49.896), ('291070', 72.576), ('291081', 68.04), ('291140', 68.04), ('291144', 70.308), ('291154', 106.596), ('291163', 74.844), ('291174', 87.0912), ('291182', 108.864), ('291245', 92.988), ('291246', 90.72), ('291268', 63.504), ('291301', 77.112), ('291360', 63.504), ('291367', 75.2976), ('291385', 79.38), ('291399', 117.936), ('291400', 104.328), ('291404', 72.576), ('291407', 100.2456), ('291424', 83.916), ('291489', 68.04), ('291495', 77.112), ('291499', 68.04), ('291524', 77.112), ('291530', 99.792), ('291544', 77.112), ('291561', 79.38), ('291569', 68.04), ('291585', 58.968), ('291598', 86.184), ('291640', 63.504), ('291641', 104.328), ('291667', 63.504), ('291675', 63.0504), ('291695', 49.896), ('291697', 90.72), ('291702', 92.988), ('291724', 68.04), ('291737', 81.648), ('291742', 83.916), ('291746', 74.844), ('291748', 72.576), ('291750', 72.576), ('291789', 58.968), ('291795', 56.7), ('291796', 81.648), ('291827', 69.4008), ('291845', 104.328), ('291870', 81.648), ('291876', 61.236), ('291887', 68.04), ('291890', 90.72), ('291893', 125.1936), ('291898', 79.38), ('291908', 102.06), ('291919', 72.576), ('291920', 80.74080000000001), ('291930', 77.112), ('291931', 86.184), ('291937', 88.452), ('291948', 83.916), ('291955', 79.38), ('291957', 58.0608), ('291971', 63.504), ('291986', 72.576), ('291998', 108.864), ('291999', 68.04), ('292024', 90.72), ('292034', 122.472), ('292050', 68.04), ('292063', 77.112), ('292120', 108.864), ('292132', 73.4832), ('292155', 58.968), ('292170', 68.04), ('292173', 61.236), ('292177', 81.648), ('292182', 54.432), ('292184', 81.648), ('292193', 83.916), ('292194', 111.132), ('292207', 81.648), ('292209', 68.04), ('292212', 122.472), ('292219', 56.7), ('292240', 71.2152), ('292257', 124.74), ('292260', 122.472), ('292282', 65.772), ('292292', 58.968), ('292306', 70.308), ('292312', 58.968), ('292313', 99.792), ('292315', 95.256), ('292321', 83.916), ('292328', 75.7512), ('292332', 83.916), ('292348', 83.916), ('292405', 130.1832), ('292411', 63.504), ('292416', 86.184), ('292423', 88.452), ('292428', 95.256), ('292441', 158.76), ('292455', 97.524), ('292459', 48.9888), ('292479', 65.772), ('292480', 131.544), ('292491', 86.184), ('292497', 83.916), ('292503', 72.576), ('292512', 67.1328), ('292527', 90.72), ('292563', 83.916), ('292570', 81.648), ('292597', 74.844), ('292606', 78.4728), ('292615', 81.648), ('292626', 77.112), ('292631', 77.112), ('292640', 63.504), ('292646', 104.328), ('292661', 79.38), ('292673', 79.38), ('292679', 102.5136), ('292680', 72.576), ('292686', 104.328), ('292688', 97.524), ('292690', 86.184), ('292699', 68.04), ('292700', 86.184), ('292702', 129.276), ('292713', 72.576), ('292716', 79.38), ('292728', 65.772), ('292735', 99.792), ('292737', 81.648), ('292741', 69.8544), ('292751', 54.432), ('292756', 65.772), ('292764', 61.236), ('292765', 102.06), ('292774', 81.648), ('292779', 83.916), ('292781', 95.256), ('292825', 81.648), ('292834', 86.184), ('292839', 75.7512), ('292847', 79.38), ('292848', 58.968), ('292861', 77.112), ('292865', 90.72), ('292870', 65.772), ('292885', 56.7), ('292900', 83.916), ('292908', 72.576), ('292941', 72.576), ('292959', 72.576), ('292984', 79.38), ('293015', 81.648), ('293019', 58.968), ('293027', 67.1328), ('293063', 68.04), ('293067', 90.72), ('293074', 83.916), ('293091', 81.648), ('293099', 72.576), ('293100', 54.432), ('293101', 72.576), ('293112', 70.308), ('293120', 80.74080000000001), ('293122', 83.916), ('293125', 99.792), ('293126', 74.844), ('293130', 72.576), ('293134', 68.04), ('293136', 65.772), ('293154', 67.1328), ('293160', 77.112), ('293162', 80.74080000000001), ('293167', 99.792), ('293169', 81.648), ('293170', 68.04), ('293173', 54.432), ('293177', 70.7616), ('293178', 104.328), ('293183', 95.256), ('293192', 90.72), ('293204', 56.7), ('293219', 81.648), ('293221', 129.276), ('293225', 95.256), ('293228', 72.576), ('293234', 74.844), ('293236', 54.432), ('293243', 77.112), ('293250', 58.968), ('293254', 90.72), ('293256', 83.916), ('293262', 65.772), ('293267', 54.432), ('293270', 52.164), ('293272', 72.576), ('293273', 83.916), ('293274', 90.72), ('293282', 104.328), ('293301', 83.916), ('293302', 73.4832), ('293325', 68.04), ('293326', 68.04), ('293341', 58.968), ('293345', 58.968), ('293351', 86.184), ('293353', 74.844), ('293364', 68.04), ('293380', 77.112), ('293383', 90.72), ('293385', 81.1944), ('293392', 68.04), ('293412', 81.648), ('293419', 81.648), ('293428', 70.308), ('293439', 77.112), ('293441', 86.184), ('293448', 72.576), ('293449', 117.936), ('293458', 72.576), ('293461', 88.452), ('293467', 65.772), ('293494', 72.576), ('293500', 72.576), ('293501', 81.648), ('293520', 90.72), ('293528', 60.7824), ('293535', 72.576), ('293536', 83.916), ('293539', 99.792), ('293541', 72.576), ('293546', 86.184), ('293574', 68.04), ('293581', 106.596), ('293587', 112.9464), ('293589', 72.576), ('293591', 95.256), ('293599', 104.328), ('293607', 104.328), ('293613', 79.38), ('293615', 74.844), ('293619', 81.648), ('293624', 68.04), ('293625', 63.504), ('293626', 95.256), ('293634', 72.576), ('293637', 108.864), ('293674', 81.648), ('293702', 83.916), ('293719', 70.308), ('293727', 68.04), ('293735', 68.04), ('293754', 65.772), ('293757', 63.504), ('293764', 74.844), ('293789', 72.576), ('293790', 95.256), ('293796', 70.308), ('293813', 58.968), ('293814', 81.648), ('293818', 92.988), ('293822', 89.3592), ('293826', 81.648), ('293827', 65.772), ('293844', 79.38), ('293851', 90.72), ('293856', 99.792), ('293861', 81.648), ('293864', 79.38), ('293870', 81.648), ('293872', 102.06), ('293878', 58.968), ('293898', 104.328), ('293899', 73.4832), ('293900', 84.3696), ('293907', 102.06), ('293908', 68.04), ('293912', 81.648), ('293928', 63.504), ('293929', 65.772), ('293964', 63.504), ('293971', 81.648), ('293974', 98.4312), ('293982', 81.648), ('293983', 119.7504), ('293985', 81.648), ('293988', 63.504), ('293990', 49.896), ('294009', 63.504), ('294019', 72.576), ('294020', 63.504), ('294028', 63.504), ('294031', 77.112), ('294037', 83.916), ('294039', 72.576), ('294043', 81.648), ('294045', 53.9784), ('294055', 88.452), ('294074', 72.576), ('294078', 104.328), ('294081', 83.916), ('294082', 81.648), ('294114', 81.648), ('294117', 129.276), ('294125', 84.3696), ('294130', 95.256), ('294150', 63.504), ('294153', 117.936), ('294162', 77.112), ('294170', 108.864), ('294172', 117.936), ('294173', 97.524), ('294177', 65.772), ('294178', 122.472), ('294186', 68.04), ('294210', 68.9472), ('294211', 87.0912), ('294212', 106.1424), ('294215', 54.432), ('294224', 69.4008), ('294240', 61.236), ('294243', 56.7), ('294245', 84.8232), ('294253', 104.328), ('294257', 70.308), ('294258', 92.988), ('294267', 63.9576), ('294278', 84.3696), ('294283', 54.432), ('294302', 99.792), ('294311', 95.256), ('294315', 85.7304), ('294318', 86.184), ('294324', 72.576), ('294332', 86.184), ('294334', 63.504), ('294351', 104.328), ('294361', 65.772), ('294363', 88.452), ('294364', 86.184), ('294368', 72.576), ('294369', 74.844), ('294376', 58.968), ('294388', 90.72), ('294390', 76.6584), ('294400', 68.04), ('294407', 133.812), ('294418', 90.72), ('294420', 77.112), ('294433', 82.5552), ('294438', 70.308), ('294441', 58.968), ('294442', 102.06), ('294453', 99.792), ('294454', 72.576), ('294466', 63.504), ('294467', 77.112), ('294479', 68.04), ('294509', 106.596), ('294516', 65.772), ('294517', 77.112), ('294519', 58.968), ('294540', 87.0912), ('294542', 74.844), ('294545', 68.04), ('294560', 88.452), ('294563', 72.576), ('294567', 68.04), ('294572', 81.648), ('294581', 81.648), ('294584', 107.9568), ('294587', 68.04), ('294588', 99.792), ('294596', 108.864), ('294597', 90.72), ('294602', 81.648), ('294606', 108.864), ('294607', 73.9368), ('294611', 63.504), ('294612', 58.968), ('294618', 104.328), ('294622', 68.04), ('294623', 64.4112), ('294627', 65.772), ('294630', 52.164), ('294637', 90.72), ('294642', 68.04), ('294656', 113.4), ('294658', 77.112), ('294668', 68.04), ('294680', 86.184), ('294686', 127.008), ('294715', 68.04), ('294721', 104.328), ('294722', 113.4), ('294727', 58.968), ('294731', 68.04), ('294734', 90.72), ('294747', 58.968), ('294748', 81.648), ('294754', 68.04), ('294759', 99.792), ('294764', 72.576), ('294767', 61.236), ('294769', 90.72), ('294770', 58.968), ('294776', 77.112), ('294794', 71.6688), ('294796', 79.38), ('294802', 83.916), ('294803', 99.792), ('294804', 99.792), ('294806', 74.844), ('294807', 113.4), ('294808', 90.72), ('294809', 90.72), ('294820', 90.72), ('294831', 88.452), ('294833', 108.864), ('294836', 65.772), ('294838', 74.844), ('294840', 99.792), ('294855', 95.256), ('294865', 108.864), ('294874', 84.8232), ('294882', 111.132), ('294888', 63.504), ('294907', 117.936), ('294916', 68.04), ('294917', 142.88400000000001), ('294960', 77.112), ('294961', 74.844), ('294966', 56.2464), ('294968', 54.432), ('294969', 63.504), ('294970', 117.936), ('294975', 68.04), ('294984', 63.504), ('294985', 77.112), ('294987', 65.772), ('294993', 68.04), ('295004', 74.844), ('295006', 84.8232), ('295007', 65.772), ('295012', 68.04), ('295013', 79.38), ('295016', 90.72), ('295020', 79.38), ('295023', 56.7), ('295026', 58.968), ('295033', 86.184), ('295057', 113.4), ('295060', 72.576), ('295062', 102.06), ('295064', 77.112), ('295067', 77.112), ('295068', 113.4), ('295073', 108.864), ('295075', 99.792), ('295076', 92.988), ('295084', 72.576), ('295085', 81.648), ('295087', 113.4), ('295092', 86.184), ('295106', 117.936), ('295107', 65.772), ('295111', 79.38), ('295113', 106.596), ('295115', 95.256), ('295117', 131.544), ('295118', 62.1432), ('295126', 72.576), ('295132', 93.8952), ('295133', 79.38), ('295139', 81.648), ('295140', 68.04), ('295143', 74.844), ('295144', 129.276), ('295153', 95.256), ('295154', 72.576), ('295160', 83.916), ('295162', 79.38), ('295164', 72.576), ('295175', 92.5344), ('295180', 77.112), ('295181', 79.38), ('295182', 90.72), ('295184', 81.648), ('295185', 58.968), ('295202', 97.524), ('295212', 58.968), ('295216', 54.432), ('295218', 68.04), ('295221', 68.04), ('295228', 83.916), ('295231', 70.7616), ('295237', 72.576), ('295244', 108.864), ('295245', 86.184), ('295248', 86.184), ('295251', 68.04), ('295257', 90.72), ('295264', 79.38), ('295266', 88.452), ('295268', 90.72), ('295273', 72.576), ('295277', 63.504), ('295296', 81.648), ('295298', 56.7), ('295300', 95.256), ('295302', 90.72), ('295304', 83.916), ('295313', 92.988), ('295318', 97.524), ('295331', 70.308), ('295334', 81.648), ('295335', 81.648), ('295336', 86.184), ('295339', 108.864), ('295340', 69.8544), ('295341', 68.04), ('295345', 99.792), ('295348', 70.308), ('295357', 104.328), ('295364', 77.112), ('295368', 63.504), ('295371', 86.184), ('295374', 83.916), ('295376', 102.06), ('295379', 74.844), ('295380', 117.936), ('295394', 81.648), ('295401', 81.648), ('295403', 68.04), ('295407', 72.576), ('295412', 86.184), ('295416', 95.256), ('295418', 86.184), ('295431', 77.112), ('295436', 95.256), ('295437', 68.04), ('295439', 71.2152), ('295443', 72.576), ('295449', 77.112), ('295455', 54.432), ('295464', 77.112), ('295470', 94.3488), ('295478', 63.504), ('295486', 90.72), ('295490', 76.2048), ('295495', 87.5448), ('295500', 108.864), ('295506', 81.648), ('295512', 74.844), ('295513', 124.74), ('295517', 83.916), ('295518', 81.648), ('295521', 86.184), ('295530', 85.7304), ('295535', 74.844), ('295537', 108.864), ('295540', 74.844), ('295543', 113.4), ('295544', 54.432), ('295547', 107.5032), ('295550', 81.648), ('295551', 81.648), ('295553', 77.5656), ('295554', 72.576), ('295555', 90.72), ('295556', 68.04), ('295559', 95.256), ('295561', 63.504), ('295563', 45.36), ('295578', 142.88400000000001), ('295581', 86.184), ('295582', 63.504), ('295584', 60.7824), ('295593', 81.648), ('295595', 96.1632), ('295596', 90.72), ('295600', 40.824), ('295602', 74.3904), ('295603', 86.184), ('295605', 86.184), ('295610', 88.452), ('295613', 77.112), ('295619', 77.112), ('295621', 58.968), ('295622', 58.968), ('295624', 70.308), ('295626', 67.1328), ('295629', 79.38), ('295634', 74.844), ('295637', 81.648), ('295638', 74.844), ('295647', 58.968), ('295655', 90.72), ('295660', 83.916), ('295666', 86.184), ('295669', 56.7), ('295678', 63.504), ('295679', 74.844), ('295680', 108.864), ('295687', 98.8848), ('295693', 86.184), ('295697', 63.504), ('295699', 74.844), ('295700', 63.504), ('295702', 99.792), ('295712', 53.0712), ('295719', 88.452), ('295741', 68.04), ('295742', 58.968), ('295745', 77.112), ('295753', 104.328), ('295755', 68.04), ('295775', 81.648), ('295778', 86.184), ('295789', 86.184), ('295796', 45.36), ('295800', 68.04), ('295802', 54.432), ('295804', 83.916), ('295811', 95.256), ('295812', 104.328), ('295813', 74.844), ('295815', 77.112), ('295817', 79.38), ('295819', 83.0088), ('295822', 72.576), ('295825', 88.452), ('295827', 88.452), ('295830', 86.184), ('295837', 90.72), ('295845', 58.968), ('295858', 74.844), ('295859', 117.936), ('295860', 54.432), ('295866', 90.72), ('295868', 95.256), ('295871', 54.432), ('295873', 79.38), ('295879', 70.308), ('295880', 72.576), ('295892', 90.72), ('295902', 68.04), ('295903', 81.648), ('295904', 77.112), ('295905', 81.648), ('295912', 90.72), ('295914', 77.112), ('295915', 72.576), ('295926', 90.72), ('295933', 54.432), ('295936', 72.576), ('295937', 95.256), ('295939', 81.648), ('295945', 94.8024), ('295948', 111.132), ('295951', 68.9472), ('295954', 81.648), ('295959', 129.276), ('295961', 84.3696), ('295962', 79.38), ('295963', 63.504), ('295964', 90.72), ('295967', 70.7616), ('295973', 65.772), ('295977', 63.504), ('295978', 81.648), ('295980', 83.916), ('295982', 68.04), ('295990', 122.472), ('295993', 58.968), ('295995', 99.792), ('295998', 90.72), ('296001', 68.04), ('296003', 63.504), ('296004', 86.184), ('296005', 99.792), ('296008', 72.576), ('296013', 77.112), ('296019', 81.648), ('296020', 81.648), ('296027', 63.504), ('296030', 86.184), ('296031', 65.772), ('296036', 61.236), ('296038', 102.06), ('296042', 86.184), ('296043', 92.988), ('296049', 72.576), ('296051', 113.4), ('296052', 81.648), ('296057', 97.524), ('296060', 58.968), ('296064', 77.112), ('296067', 90.72), ('296070', 72.1224), ('296071', 149.688), ('296074', 72.576), ('296080', 90.72), ('296082', 58.968), ('296083', 58.968), ('296085', 74.844), ('296097', 91.6272), ('296101', 99.792), ('296104', 99.792), ('296105', 81.648), ('296111', 77.112), ('296116', 79.38), ('296122', 79.38), ('296131', 90.72), ('296132', 81.648), ('296134', 83.916), ('296138', 56.7), ('296140', 54.432), ('296145', 113.4), ('296151', 83.916), ('296152', 77.112), ('296154', 83.916), ('296159', 68.04), ('296160', 56.7), ('296162', 77.112), ('296167', 82.5552), ('296168', 49.896), ('296169', 72.576), ('296171', 90.72), ('296172', 81.648), ('296173', 65.772), ('296174', 72.576), ('296175', 83.916), ('296176', 95.256), ('296194', 76.2048), ('296197', 70.308), ('296206', 92.988), ('296210', 68.04), ('296211', 63.504), ('296214', 77.112), ('296215', 77.112), ('296216', 77.112), ('296217', 83.916), ('296218', 122.472), ('296220', 77.112), ('296222', 108.864), ('296224', 56.7), ('296227', 81.648), ('296229', 90.72), ('296230', 83.916), ('296231', 113.4), ('296235', 110.2248), ('296238', 95.256), ('296243', 77.112), ('296244', 73.4832), ('296248', 92.988), ('296250', 49.896), ('296252', 77.112), ('296266', 72.576), ('296267', 70.308), ('296268', 70.308), ('296269', 86.184), ('296271', 74.844), ('296272', 79.38), ('296273', 99.792), ('296274', 79.38), ('296275', 88.452), ('296276', 86.184), ('296277', 54.432), ('296281', 54.885600000000004), ('296282', 79.38), ('296283', 58.968), ('296284', 136.08), ('296286', 65.772), ('296289', 92.988), ('296292', 108.864), ('296295', 136.08), ('296299', 79.38), ('296300', 102.06), ('296302', 65.3184), ('296304', 79.38), ('296305', 79.38), ('296307', 68.04), ('296309', 77.112), ('296312', 106.596), ('296314', 54.432), ('296321', 68.04), ('296324', 73.4832), ('296326', 77.112), ('296327', 68.04), ('296329', 52.164), ('296330', 68.04), ('296334', 113.4), ('296335', 58.968), ('296336', 68.04), ('296337', 90.72), ('296338', 117.936), ('296339', 99.792), ('296341', 63.504), ('296343', 90.72), ('296344', 83.916), ('296345', 83.916), ('296346', 63.504), ('296350', 61.236), ('296355', 99.792), ('296359', 79.38), ('296360', 104.328), ('296361', 61.236), ('296366', 81.648), ('296369', 86.184), ('296370', 83.916), ('296373', 54.432), ('296374', 79.38), ('296381', 111.132), ('296382', 62.1432), ('296383', 83.916), ('296387', 66.2256), ('296390', 79.38), ('296392', 72.576), ('296393', 88.452), ('296395', 97.524), ('296396', 92.988), ('296397', 72.576), ('296400', 72.576), ('296402', 86.184), ('296411', 68.04), ('296413', 86.184), ('296421', 108.864), ('296424', 52.164), ('296428', 77.112), ('296429', 72.576), ('296431', 72.576), ('296432', 58.968), ('296433', 61.236), ('296437', 90.72), ('296439', 72.576), ('296441', 52.164), ('296442', 70.308), ('296443', 79.38), ('296445', 81.648), ('296446', 74.844), ('296447', 68.04), ('296453', 107.5032), ('296463', 81.648), ('296469', 74.844), ('296471', 58.968), ('296476', 78.4728), ('296478', 65.772), ('296482', 99.792), ('296486', 58.968), ('296491', 108.864), ('296495', 63.504), ('296498', 77.112), ('296499', 63.504), ('296500', 75.7512), ('296501', 86.184), ('296504', 108.864), ('296509', 74.844), ('296518', 77.112), ('296519', 74.844), ('296520', 136.08), ('296522', 52.164), ('296523', 79.38), ('296524', 87.0912), ('296525', 90.72), ('296526', 86.184), ('296529', 63.504), ('296530', 54.432), ('296532', 117.936), ('296535', 63.504), ('296536', 63.504), ('296539', 74.844), ('296543', 56.2464), ('296545', 113.4), ('296548', 77.112), ('296549', 84.3696), ('296550', 56.2464), ('296551', 63.504), ('296554', 71.6688), ('296555', 90.72)])"
            ]
          },
          "metadata": {
            "tags": []
          },
          "execution_count": 6
        }
      ]
    },
    {
      "cell_type": "code",
      "metadata": {
        "id": "BLlw7ckEprYO",
        "colab_type": "code",
        "outputId": "abb906ee-219d-435d-9a80-18a57eaffca3",
        "colab": {
          "base_uri": "https://localhost:8080/",
          "height": 308
        }
      },
      "source": [
        "#display the first test sample\n",
        "id = list(weightmap)[0]\n",
        "print(\"id: \"+id)\n",
        "print(\"weight:\" + str(weightmap[id]))\n",
        "\n",
        "print(\"image:\")\n",
        "from IPython.display import Image\n",
        "img_path = path+list(weightmap)[0]+\".jpg\"\n",
        "print(img_path)\n",
        "Image(img_path)"
      ],
      "execution_count": 0,
      "outputs": [
        {
          "output_type": "stream",
          "text": [
            "id: 290060\n",
            "weight:90.72\n",
            "image:\n",
            "./dataset/img/290060.jpg\n"
          ],
          "name": "stdout"
        },
        {
          "output_type": "execute_result",
          "data": {
            "image/jpeg": "[encoded data removed]",
            "text/plain": [
              "<IPython.core.display.Image object>"
            ]
          },
          "metadata": {
            "tags": []
          },
          "execution_count": 7
        }
      ]
    },
    {
      "cell_type": "markdown",
      "metadata": {
        "id": "unTNvpRbrs6P",
        "colab_type": "text"
      },
      "source": [
        "###**Construct dataframe**\n",
        "\n",
        "\n",
        "classify data by weight into 3 classes:      \n",
        "**light**: weight<70kg      \n",
        "**normal-weighted**: 70kg<weight<86kg     \n",
        "**heavy**: weight>86kg\n"
      ]
    },
    {
      "cell_type": "code",
      "metadata": {
        "id": "NzZwfx-USRsJ",
        "colab_type": "code",
        "outputId": "9f00c6df-5b8c-4565-ec11-c376beba96b3",
        "colab": {
          "base_uri": "https://localhost:8080/",
          "height": 437
        }
      },
      "source": [
        "# construct dataframe\n",
        "import pandas as pd\n",
        "\n",
        "\n",
        "data = []\n",
        "for root, dirs, files in os.walk(path, topdown=True):\n",
        "  for name in sorted(files):\n",
        "    if '.jpg' not in name:\n",
        "      continue\n",
        "    filename = os.path.abspath(os.path.join(root, name))\n",
        "    \n",
        "    idx = name.find('_')\n",
        "    if idx==-1:\n",
        "      num = name[:name.find('.')]\n",
        "    else:\n",
        "      num = name[idx+1:name.find('.')]\n",
        "      \n",
        "    weight = weightmap[num]\n",
        "    if weight<70:\n",
        "      data.append((filename, 0))\n",
        "    elif weight<86:\n",
        "      data.append((filename, 1))\n",
        "    else:\n",
        "      data.append((filename, 2))\n",
        "\n",
        "df = pd.DataFrame(data, columns=['filename', 'class'])\n",
        "\n",
        "\n",
        "#shuffle\n",
        "df = df.sample(frac=1).reset_index(drop=True)\n",
        "\n",
        "print(df.head(20))\n",
        "print(len(df))\n",
        "df.dtypes"
      ],
      "execution_count": 0,
      "outputs": [
        {
          "output_type": "stream",
          "text": [
            "                                filename  class\n",
            "0        /content/dataset/img/296530.jpg      0\n",
            "1   /content/dataset/img/flip_290566.jpg      2\n",
            "2        /content/dataset/img/292631.jpg      1\n",
            "3        /content/dataset/img/295517.jpg      1\n",
            "4   /content/dataset/img/flip_293757.jpg      0\n",
            "5   /content/dataset/img/flip_291144.jpg      1\n",
            "6        /content/dataset/img/295603.jpg      2\n",
            "7   /content/dataset/img/flip_295067.jpg      1\n",
            "8   /content/dataset/img/flip_296346.jpg      0\n",
            "9        /content/dataset/img/292713.jpg      1\n",
            "10       /content/dataset/img/290098.jpg      1\n",
            "11  /content/dataset/img/flip_295345.jpg      2\n",
            "12       /content/dataset/img/293574.jpg      0\n",
            "13       /content/dataset/img/296286.jpg      0\n",
            "14  /content/dataset/img/flip_295237.jpg      1\n",
            "15       /content/dataset/img/294117.jpg      2\n",
            "16  /content/dataset/img/flip_290635.jpg      0\n",
            "17  /content/dataset/img/flip_293467.jpg      0\n",
            "18  /content/dataset/img/flip_294916.jpg      0\n",
            "19       /content/dataset/img/295555.jpg      2\n",
            "1890\n"
          ],
          "name": "stdout"
        },
        {
          "output_type": "execute_result",
          "data": {
            "text/plain": [
              "filename    object\n",
              "class        int64\n",
              "dtype: object"
            ]
          },
          "metadata": {
            "tags": []
          },
          "execution_count": 8
        }
      ]
    },
    {
      "cell_type": "code",
      "metadata": {
        "id": "CGNkuCcJVEHu",
        "colab_type": "code",
        "colab": {}
      },
      "source": [
        "# Split into train and validation sets\n",
        "train_set_percentage = .9\n",
        "\n",
        "df_val = df[int(len(df)*train_set_percentage):]\n",
        "df = df[:int(len(df)*train_set_percentage)]\n",
        "\n",
        "# shuffle \n",
        "df = df.sample(frac=1).reset_index(drop=True)\n",
        "df_val = df_val.sample(frac=1).reset_index(drop=True)"
      ],
      "execution_count": 0,
      "outputs": []
    },
    {
      "cell_type": "code",
      "metadata": {
        "id": "LI2Dl1_jIYsf",
        "colab_type": "code",
        "colab": {}
      },
      "source": [
        "# Reads an image from a file, decodes it into a tensor, and resizes it to a fixed shape.\n",
        "img_rows, img_cols = 224,224\n",
        "num_classes = 3\n",
        "batch_size = 8\n",
        "\n",
        "def _parse_function(filename, label):\n",
        "  image_string = tf.io.read_file(filename)\n",
        "  image_decoded = tf.image.decode_jpeg(image_string)\n",
        "  image_resized = tf.image.resize(image_decoded, [img_rows, img_cols])\n",
        "  image_resized = tf.ensure_shape(image_resized ,shape=(img_rows, img_cols,3))\n",
        "  label = tf.one_hot(label, num_classes)\n",
        "  return image_resized, label"
      ],
      "execution_count": 0,
      "outputs": []
    },
    {
      "cell_type": "code",
      "metadata": {
        "id": "482SUzSiIfMK",
        "colab_type": "code",
        "outputId": "fffd4020-39db-45af-b44a-ae8a12465618",
        "colab": {
          "base_uri": "https://localhost:8080/",
          "height": 34
        }
      },
      "source": [
        "train_dataset = tf.data.Dataset.from_tensor_slices((tf.cast(df['filename'].values, tf.string),\n",
        "                                                    tf.cast(df['class'].values, tf.int32) ))\n",
        "train_dataset = train_dataset.map(_parse_function)\n",
        "train_dataset = train_dataset.shuffle(5000)\n",
        "train_dataset = train_dataset.repeat()\n",
        "train_dataset = train_dataset.batch(batch_size, drop_remainder=True)\n",
        "train_dataset"
      ],
      "execution_count": 0,
      "outputs": [
        {
          "output_type": "execute_result",
          "data": {
            "text/plain": [
              "<BatchDataset shapes: ((8, 224, 224, 3), (8, 3)), types: (tf.float32, tf.float32)>"
            ]
          },
          "metadata": {
            "tags": []
          },
          "execution_count": 11
        }
      ]
    },
    {
      "cell_type": "code",
      "metadata": {
        "id": "GoRG12hjIkLh",
        "colab_type": "code",
        "outputId": "09cff410-a495-4070-b2a3-f38d1eb505f6",
        "colab": {
          "base_uri": "https://localhost:8080/",
          "height": 34
        }
      },
      "source": [
        "valid_dataset = tf.data.Dataset.from_tensor_slices((tf.cast(df_val['filename'].values, tf.string),\n",
        "                                                    tf.cast(df_val['class'].values, tf.int32) ))\n",
        "valid_dataset = valid_dataset.map(_parse_function)\n",
        "valid_dataset = valid_dataset.shuffle(5000)\n",
        "valid_dataset = valid_dataset.repeat()\n",
        "valid_dataset = valid_dataset.batch(batch_size, drop_remainder=True)\n",
        "valid_dataset"
      ],
      "execution_count": 0,
      "outputs": [
        {
          "output_type": "execute_result",
          "data": {
            "text/plain": [
              "<BatchDataset shapes: ((8, 224, 224, 3), (8, 3)), types: (tf.float32, tf.float32)>"
            ]
          },
          "metadata": {
            "tags": []
          },
          "execution_count": 12
        }
      ]
    },
    {
      "cell_type": "code",
      "metadata": {
        "id": "ZXEPScF2-uR8",
        "colab_type": "code",
        "outputId": "3cd90cd1-6a73-4981-91c9-66c89032a086",
        "colab": {
          "base_uri": "https://localhost:8080/",
          "height": 50
        }
      },
      "source": [
        "train_steps = int(len(df)/batch_size) #total trains set / batch_size\n",
        "val_steps = int(len(df_val)/batch_size)\n",
        "epochs = 10\n",
        "\n",
        "print('train steps:',train_steps)\n",
        "print('val steps:',val_steps)"
      ],
      "execution_count": 0,
      "outputs": [
        {
          "output_type": "stream",
          "text": [
            "train steps: 212\n",
            "val steps: 23\n"
          ],
          "name": "stdout"
        }
      ]
    },
    {
      "cell_type": "markdown",
      "metadata": {
        "id": "IY-sbs9Jr7gh",
        "colab_type": "text"
      },
      "source": [
        "### Construct model"
      ]
    },
    {
      "cell_type": "code",
      "metadata": {
        "id": "b4Ren7EYIuI8",
        "colab_type": "code",
        "outputId": "c33b1c94-8341-4a66-e596-0236eb364f43",
        "colab": {
          "base_uri": "https://localhost:8080/",
          "height": 50
        }
      },
      "source": [
        "#load base model\n",
        "base_model = tf.keras.applications.VGG16(weights='imagenet', include_top=False, input_shape=(224, 224, 3),pooling=None)"
      ],
      "execution_count": 0,
      "outputs": [
        {
          "output_type": "stream",
          "text": [
            "Downloading data from https://github.com/fchollet/deep-learning-models/releases/download/v0.1/vgg16_weights_tf_dim_ordering_tf_kernels_notop.h5\n",
            "58892288/58889256 [==============================] - 2s 0us/step\n"
          ],
          "name": "stdout"
        }
      ]
    },
    {
      "cell_type": "code",
      "metadata": {
        "id": "baDyhbXUI1kE",
        "colab_type": "code",
        "colab": {}
      },
      "source": [
        "x = base_model.output\n",
        "\n",
        "x = GlobalAveragePooling2D()(x)\n",
        "\n",
        "x = Dense(512, activation='relu')(x)\n",
        "\n",
        "x = Dropout(0.3)(x)\n",
        "\n",
        "x = Dense(32, activation='relu')(x)\n",
        "\n",
        "x = Dropout(0.3)(x)\n",
        "\n",
        "predictions = Dense(3, activation='softmax')(x)\n"
      ],
      "execution_count": 0,
      "outputs": []
    },
    {
      "cell_type": "code",
      "metadata": {
        "id": "jmDYvs08Geil",
        "colab_type": "code",
        "colab": {}
      },
      "source": [
        "for layer in base_model.layers:\n",
        "    if layer.name[:layer.name.find('_')]!=\"block5\":\n",
        "      layer.trainable = False\n"
      ],
      "execution_count": 0,
      "outputs": []
    },
    {
      "cell_type": "code",
      "metadata": {
        "id": "7S7TcgYOJEHE",
        "colab_type": "code",
        "outputId": "933e8d4e-4bc2-4bfa-a633-4336c4ad1878",
        "colab": {
          "base_uri": "https://localhost:8080/",
          "height": 991
        }
      },
      "source": [
        "model = Model(inputs=base_model.input, outputs=predictions)\n",
        "opt = tf.keras.optimizers.Adam(lr=0.0001)\n",
        "\n",
        "model.compile(optimizer=opt, loss='categorical_crossentropy',metrics=['accuracy'])\n",
        "model.summary()"
      ],
      "execution_count": 0,
      "outputs": [
        {
          "output_type": "stream",
          "text": [
            "Model: \"model\"\n",
            "_________________________________________________________________\n",
            "Layer (type)                 Output Shape              Param #   \n",
            "=================================================================\n",
            "input_1 (InputLayer)         [(None, 224, 224, 3)]     0         \n",
            "_________________________________________________________________\n",
            "block1_conv1 (Conv2D)        (None, 224, 224, 64)      1792      \n",
            "_________________________________________________________________\n",
            "block1_conv2 (Conv2D)        (None, 224, 224, 64)      36928     \n",
            "_________________________________________________________________\n",
            "block1_pool (MaxPooling2D)   (None, 112, 112, 64)      0         \n",
            "_________________________________________________________________\n",
            "block2_conv1 (Conv2D)        (None, 112, 112, 128)     73856     \n",
            "_________________________________________________________________\n",
            "block2_conv2 (Conv2D)        (None, 112, 112, 128)     147584    \n",
            "_________________________________________________________________\n",
            "block2_pool (MaxPooling2D)   (None, 56, 56, 128)       0         \n",
            "_________________________________________________________________\n",
            "block3_conv1 (Conv2D)        (None, 56, 56, 256)       295168    \n",
            "_________________________________________________________________\n",
            "block3_conv2 (Conv2D)        (None, 56, 56, 256)       590080    \n",
            "_________________________________________________________________\n",
            "block3_conv3 (Conv2D)        (None, 56, 56, 256)       590080    \n",
            "_________________________________________________________________\n",
            "block3_pool (MaxPooling2D)   (None, 28, 28, 256)       0         \n",
            "_________________________________________________________________\n",
            "block4_conv1 (Conv2D)        (None, 28, 28, 512)       1180160   \n",
            "_________________________________________________________________\n",
            "block4_conv2 (Conv2D)        (None, 28, 28, 512)       2359808   \n",
            "_________________________________________________________________\n",
            "block4_conv3 (Conv2D)        (None, 28, 28, 512)       2359808   \n",
            "_________________________________________________________________\n",
            "block4_pool (MaxPooling2D)   (None, 14, 14, 512)       0         \n",
            "_________________________________________________________________\n",
            "block5_conv1 (Conv2D)        (None, 14, 14, 512)       2359808   \n",
            "_________________________________________________________________\n",
            "block5_conv2 (Conv2D)        (None, 14, 14, 512)       2359808   \n",
            "_________________________________________________________________\n",
            "block5_conv3 (Conv2D)        (None, 14, 14, 512)       2359808   \n",
            "_________________________________________________________________\n",
            "block5_pool (MaxPooling2D)   (None, 7, 7, 512)         0         \n",
            "_________________________________________________________________\n",
            "global_average_pooling2d (Gl (None, 512)               0         \n",
            "_________________________________________________________________\n",
            "dense (Dense)                (None, 512)               262656    \n",
            "_________________________________________________________________\n",
            "dropout (Dropout)            (None, 512)               0         \n",
            "_________________________________________________________________\n",
            "dense_1 (Dense)              (None, 32)                16416     \n",
            "_________________________________________________________________\n",
            "dropout_1 (Dropout)          (None, 32)                0         \n",
            "_________________________________________________________________\n",
            "dense_2 (Dense)              (None, 3)                 99        \n",
            "=================================================================\n",
            "Total params: 14,993,859\n",
            "Trainable params: 7,358,595\n",
            "Non-trainable params: 7,635,264\n",
            "_________________________________________________________________\n"
          ],
          "name": "stdout"
        }
      ]
    },
    {
      "cell_type": "code",
      "metadata": {
        "id": "QtsqJ1QNB0WT",
        "colab_type": "code",
        "colab": {}
      },
      "source": [
        "#create checkpoint callback\n",
        "!mkdir checkpoints\n",
        "checkpoint = ModelCheckpoint('./checkpoints/new_weights_weight_predict.hdf5', monitor='val_accuracy', verbose=1, save_best_only=True, mode='auto')"
      ],
      "execution_count": 0,
      "outputs": []
    },
    {
      "cell_type": "markdown",
      "metadata": {
        "id": "Xg4P2DV9ssP8",
        "colab_type": "text"
      },
      "source": [
        "### Train model"
      ]
    },
    {
      "cell_type": "code",
      "metadata": {
        "id": "JWkjdFviJK6e",
        "colab_type": "code",
        "outputId": "d2744be8-3caf-419d-ff9e-2f1e7305f489",
        "colab": {
          "base_uri": "https://localhost:8080/",
          "height": 689
        }
      },
      "source": [
        "# train the model with validation \n",
        "history = model.fit( train_dataset, \n",
        "                    steps_per_epoch = train_steps,\n",
        "                   epochs = epochs,\n",
        "                   validation_data = valid_dataset,\n",
        "                   validation_steps = val_steps,\n",
        "                   callbacks = [checkpoint])"
      ],
      "execution_count": 0,
      "outputs": [
        {
          "output_type": "stream",
          "text": [
            "Epoch 1/10\n",
            "211/212 [============================>.] - ETA: 0s - loss: 1.1776 - accuracy: 0.3709\n",
            "Epoch 00001: val_accuracy improved from -inf to 0.50000, saving model to ./checkpoints/new_weights_weight_predict.hdf5\n",
            "212/212 [==============================] - 33s 154ms/step - loss: 1.1770 - accuracy: 0.3715 - val_loss: 1.0664 - val_accuracy: 0.5000\n",
            "Epoch 2/10\n",
            "211/212 [============================>.] - ETA: 0s - loss: 1.0592 - accuracy: 0.4100\n",
            "Epoch 00002: val_accuracy did not improve from 0.50000\n",
            "212/212 [==============================] - 19s 89ms/step - loss: 1.0593 - accuracy: 0.4092 - val_loss: 1.0491 - val_accuracy: 0.3696\n",
            "Epoch 3/10\n",
            "211/212 [============================>.] - ETA: 0s - loss: 1.0121 - accuracy: 0.4532\n",
            "Epoch 00003: val_accuracy did not improve from 0.50000\n",
            "212/212 [==============================] - 19s 90ms/step - loss: 1.0109 - accuracy: 0.4558 - val_loss: 0.9912 - val_accuracy: 0.4946\n",
            "Epoch 4/10\n",
            "211/212 [============================>.] - ETA: 0s - loss: 0.9660 - accuracy: 0.4917\n",
            "Epoch 00004: val_accuracy did not improve from 0.50000\n",
            "212/212 [==============================] - 19s 90ms/step - loss: 0.9661 - accuracy: 0.4917 - val_loss: 1.0228 - val_accuracy: 0.4728\n",
            "Epoch 5/10\n",
            "211/212 [============================>.] - ETA: 0s - loss: 0.9027 - accuracy: 0.5515\n",
            "Epoch 00005: val_accuracy did not improve from 0.50000\n",
            "212/212 [==============================] - 19s 89ms/step - loss: 0.9017 - accuracy: 0.5519 - val_loss: 0.9747 - val_accuracy: 0.4891\n",
            "Epoch 6/10\n",
            "211/212 [============================>.] - ETA: 0s - loss: 0.8159 - accuracy: 0.6179\n",
            "Epoch 00006: val_accuracy improved from 0.50000 to 0.52174, saving model to ./checkpoints/new_weights_weight_predict.hdf5\n",
            "212/212 [==============================] - 19s 91ms/step - loss: 0.8156 - accuracy: 0.6185 - val_loss: 0.9390 - val_accuracy: 0.5217\n",
            "Epoch 7/10\n",
            "211/212 [============================>.] - ETA: 0s - loss: 0.7613 - accuracy: 0.6345\n",
            "Epoch 00007: val_accuracy improved from 0.52174 to 0.54348, saving model to ./checkpoints/new_weights_weight_predict.hdf5\n",
            "212/212 [==============================] - 20s 92ms/step - loss: 0.7605 - accuracy: 0.6350 - val_loss: 0.9040 - val_accuracy: 0.5435\n",
            "Epoch 8/10\n",
            "211/212 [============================>.] - ETA: 0s - loss: 0.6931 - accuracy: 0.6860\n",
            "Epoch 00008: val_accuracy improved from 0.54348 to 0.58152, saving model to ./checkpoints/new_weights_weight_predict.hdf5\n",
            "212/212 [==============================] - 19s 92ms/step - loss: 0.6930 - accuracy: 0.6863 - val_loss: 0.8768 - val_accuracy: 0.5815\n",
            "Epoch 9/10\n",
            "211/212 [============================>.] - ETA: 0s - loss: 0.5895 - accuracy: 0.7595\n",
            "Epoch 00009: val_accuracy improved from 0.58152 to 0.63043, saving model to ./checkpoints/new_weights_weight_predict.hdf5\n",
            "212/212 [==============================] - 19s 91ms/step - loss: 0.5901 - accuracy: 0.7594 - val_loss: 0.9183 - val_accuracy: 0.6304\n",
            "Epoch 10/10\n",
            "211/212 [============================>.] - ETA: 0s - loss: 0.4953 - accuracy: 0.8033\n",
            "Epoch 00010: val_accuracy improved from 0.63043 to 0.66848, saving model to ./checkpoints/new_weights_weight_predict.hdf5\n",
            "212/212 [==============================] - 19s 91ms/step - loss: 0.4937 - accuracy: 0.8037 - val_loss: 1.0063 - val_accuracy: 0.6685\n"
          ],
          "name": "stdout"
        }
      ]
    },
    {
      "cell_type": "markdown",
      "metadata": {
        "id": "MoJLEOp8sxUq",
        "colab_type": "text"
      },
      "source": [
        "###Display result"
      ]
    },
    {
      "cell_type": "code",
      "metadata": {
        "id": "jZDUb3DKRVFA",
        "colab_type": "code",
        "colab": {}
      },
      "source": [
        "#plot function\n",
        "def plot_train(hist):\n",
        "    h = hist.history\n",
        "    if 'accuracy' in h:\n",
        "        meas='accuracy'\n",
        "        loc='lower right'\n",
        "    else:\n",
        "        meas='loss'\n",
        "        loc='upper right'\n",
        "    plt.plot(hist.history[meas])\n",
        "    plt.plot(hist.history['val_'+meas])\n",
        "    plt.title('model '+meas)\n",
        "    plt.ylabel(meas)\n",
        "    plt.xlabel('epoch')\n",
        "    plt.legend(['train', 'validation'], loc=loc)"
      ],
      "execution_count": 0,
      "outputs": []
    },
    {
      "cell_type": "code",
      "metadata": {
        "id": "eEuyXhwERb8d",
        "colab_type": "code",
        "outputId": "e66d9a34-0b0f-463f-f619-a8df337cc360",
        "colab": {
          "base_uri": "https://localhost:8080/",
          "height": 295
        }
      },
      "source": [
        "plot_train(history)"
      ],
      "execution_count": 0,
      "outputs": [
        {
          "output_type": "display_data",
          "data": {
            "image/png": "[encoded data removed]",
            "text/plain": [
              "<Figure size 432x288 with 1 Axes>"
            ]
          },
          "metadata": {
            "tags": []
          }
        }
      ]
    },
    {
      "cell_type": "code",
      "metadata": {
        "id": "_BffTISiVZsN",
        "colab_type": "code",
        "colab": {}
      },
      "source": [
        "#load weights from checkpoint\n",
        "model.load_weights(\"./checkpoints/new_weights_weight_predict.hdf5\")"
      ],
      "execution_count": 0,
      "outputs": []
    },
    {
      "cell_type": "code",
      "metadata": {
        "id": "9VpKwH9MHq-x",
        "colab_type": "code",
        "outputId": "fe1238c0-a01c-412e-8d5b-f07098505599",
        "colab": {
          "base_uri": "https://localhost:8080/",
          "height": 34
        }
      },
      "source": [
        "from IPython.display import Image\n",
        "from keras.preprocessing import image\n",
        "from keras.applications.imagenet_utils import preprocess_input, decode_predictions\n",
        "import numpy as np\n",
        "\n",
        "def predict_weight(img_path):\n",
        "  img = image.load_img(img_path, target_size=(224, 224))\n",
        "  x = image.img_to_array(img)\n",
        "  x = np.expand_dims(x, axis=0)\n",
        "  x = preprocess_input(x)\n",
        "  print('Input image shape:', x.shape) \n",
        "\n",
        "  preds = model.predict(x)\n",
        "  print('Predicted:', preds)\n",
        "  if preds[0][0] == preds[0].max():\n",
        "    print(\"This person is light.\")\n",
        "  elif preds[0][1] == preds[0].max():\n",
        "    print(\"This person is normal-weighted.\")\n",
        "  else:\n",
        "    print(\"This person is heavy.\")\n",
        "  Image(img_path)\n"
      ],
      "execution_count": 0,
      "outputs": [
        {
          "output_type": "stream",
          "text": [
            "Using TensorFlow backend.\n"
          ],
          "name": "stderr"
        }
      ]
    },
    {
      "cell_type": "markdown",
      "metadata": {
        "id": "F5dVapgztav5",
        "colab_type": "text"
      },
      "source": [
        "###Try some celebrity images"
      ]
    },
    {
      "cell_type": "markdown",
      "metadata": {
        "id": "bAUk5Ws1y765",
        "colab_type": "text"
      },
      "source": [
        "Bruno Mars: actual weight : 67kg (light)"
      ]
    },
    {
      "cell_type": "code",
      "metadata": {
        "id": "1Q5GcRP_ZbIV",
        "colab_type": "code",
        "outputId": "e2b6c067-dc45-4d7f-fc79-e5e9c09099a0",
        "colab": {
          "base_uri": "https://localhost:8080/",
          "height": 367
        }
      },
      "source": [
        "img_path = \"brunomars.jpg\"\n",
        "predict_weight(img_path)\n",
        "Image(img_path)"
      ],
      "execution_count": 0,
      "outputs": [
        {
          "output_type": "stream",
          "text": [
            "Input image shape: (1, 224, 224, 3)\n",
            "Predicted: [[0.50999856 0.4618308  0.02817066]]\n",
            "This person is light.\n"
          ],
          "name": "stdout"
        },
        {
          "output_type": "execute_result",
          "data": {
            "image/jpeg": "[encoded data removed]",
            "text/plain": [
              "<IPython.core.display.Image object>"
            ]
          },
          "metadata": {
            "tags": []
          },
          "execution_count": 24
        }
      ]
    },
    {
      "cell_type": "markdown",
      "metadata": {
        "id": "VS_53f5vzGZ3",
        "colab_type": "text"
      },
      "source": [
        "Yao Ming: actual weight: 141kg (heavy)"
      ]
    },
    {
      "cell_type": "code",
      "metadata": {
        "id": "aWWgp_3ecAFY",
        "colab_type": "code",
        "outputId": "89782730-cb20-4737-bbdf-c1f14b44c8e7",
        "colab": {
          "base_uri": "https://localhost:8080/",
          "height": 430
        }
      },
      "source": [
        "img_path = \"yaoming.jpg\"\n",
        "predict_weight(img_path)\n",
        "Image(img_path)"
      ],
      "execution_count": 0,
      "outputs": [
        {
          "output_type": "stream",
          "text": [
            "Input image shape: (1, 224, 224, 3)\n",
            "Predicted: [[7.6064130e-04 8.4530301e-02 9.1470903e-01]]\n",
            "This person is heavy.\n"
          ],
          "name": "stdout"
        },
        {
          "output_type": "execute_result",
          "data": {
            "image/jpeg": "[encoded data removed]",
            "text/plain": [
              "<IPython.core.display.Image object>"
            ]
          },
          "metadata": {
            "tags": []
          },
          "execution_count": 25
        }
      ]
    },
    {
      "cell_type": "markdown",
      "metadata": {
        "id": "CP-hrJ3HH5EH",
        "colab_type": "text"
      },
      "source": [
        "# BMI\n",
        "Since weight depend a lot on height data, it's not an accurate way to measure body fat level. Therefore we choose BMI as another metric.       \n",
        "BMI = weight(kg) / (height(m) * height(m))\n",
        "\n",
        "**light**: BMI<22     \n",
        "**normal-weighted**: 22<BMI<27       \n",
        "**heavy**:BMI>27"
      ]
    },
    {
      "cell_type": "code",
      "metadata": {
        "id": "rSbYdxNbBpVa",
        "colab_type": "code",
        "outputId": "d36e3f92-20b9-4319-d60a-bb611065c761",
        "colab": {
          "base_uri": "https://localhost:8080/",
          "height": 54
        }
      },
      "source": [
        "#read label file to construct a weight dict\n",
        "heightmap = dict();\n",
        "\n",
        "labels = open(\"./dataset/label.txt\", \"r\")\n",
        "for line in labels:\n",
        "  idx = line.find('\\t')\n",
        "  if line[:idx] != \"ID\":\n",
        "    filename = line[:idx]\n",
        "\n",
        "    idx1 = line.find('\\\"')\n",
        "    inch = float(line[idx1-2:idx1])\n",
        "    idx2 = line.find('\\'')\n",
        "    feet = float(line[idx2-1:idx2])\n",
        "    heightmap[filename]= feet*0.3048 + inch*0.024  \n",
        "\n",
        "heightmap.items()"
      ],
      "execution_count": 0,
      "outputs": [
        {
          "output_type": "execute_result",
          "data": {
            "text/plain": [
              "dict_items([('290060', 1.8288000000000002), ('290079', 1.6440000000000001), ('290098', 1.716), ('290118', 1.716), ('290147', 1.6440000000000001), ('290167', 1.572), ('290173', 1.62), ('290182', 1.596), ('290201', 1.8528000000000002), ('290206', 1.8768000000000002), ('290248', 1.74), ('290250', 1.8768000000000002), ('290267', 1.764), ('290268', 1.692), ('290273', 1.8768000000000002), ('290302', 1.6680000000000001), ('290310', 1.74), ('290328', 1.62), ('290339', 1.62), ('290350', 1.764), ('290352', 1.764), ('290376', 1.692), ('290384', 1.62), ('290391', 1.788), ('290392', 1.9008000000000003), ('290394', 1.788), ('290418', 1.716), ('290434', 1.788), ('290503', 1.764), ('290504', 1.6440000000000001), ('290505', 1.692), ('290566', 1.764), ('290619', 1.764), ('290635', 1.6680000000000001), ('290637', 1.692), ('290641', 1.692), ('290642', 1.692), ('290667', 1.764), ('290685', 1.74), ('290691', 1.9008000000000003), ('290695', 1.9008000000000003), ('290698', 1.9248000000000003), ('290716', 1.788), ('290718', 1.74), ('290727', 1.8768000000000002), ('290750', 1.8288000000000002), ('290774', 1.8288000000000002), ('290805', 1.596), ('290817', 1.788), ('290882', 1.6680000000000001), ('290915', 1.692), ('290918', 1.788), ('290972', 1.8528000000000002), ('290974', 1.764), ('290975', 1.74), ('290987', 1.62), ('290988', 1.572), ('291027', 1.596), ('291070', 1.764), ('291081', 1.6440000000000001), ('291140', 1.74), ('291144', 1.6680000000000001), ('291154', 1.74), ('291163', 1.6680000000000001), ('291174', 1.6440000000000001), ('291182', 1.8528000000000002), ('291245', 1.9488000000000003), ('291246', 1.788), ('291268', 1.692), ('291301', 1.6680000000000001), ('291360', 1.572), ('291367', 1.8528000000000002), ('291385', 1.764), ('291399', 1.788), ('291400', 1.764), ('291404', 1.62), ('291407', 1.716), ('291424', 1.8528000000000002), ('291489', 1.788), ('291495', 1.692), ('291499', 1.6680000000000001), ('291524', 1.8768000000000002), ('291530', 1.8528000000000002), ('291544', 1.74), ('291561', 1.74), ('291569', 1.716), ('291585', 1.596), ('291598', 1.716), ('291640', 1.692), ('291641', 1.6440000000000001), ('291667', 1.6680000000000001), ('291675', 1.6440000000000001), ('291695', 1.524), ('291697', 1.8528000000000002), ('291702', 1.788), ('291724', 1.8288000000000002), ('291737', 1.9008000000000003), ('291742', 1.4832), ('291746', 1.6440000000000001), ('291748', 1.692), ('291750', 1.692), ('291789', 1.6680000000000001), ('291795', 1.6440000000000001), ('291796', 1.716), ('291827', 1.788), ('291845', 1.764), ('291870', 1.764), ('291876', 1.596), ('291887', 1.692), ('291890', 1.692), ('291893', 1.8288000000000002), ('291898', 1.788), ('291908', 1.788), ('291919', 1.716), ('291920', 1.74), ('291930', 1.74), ('291931', 1.8528000000000002), ('291937', 1.74), ('291948', 1.764), ('291955', 1.74), ('291957', 1.6440000000000001), ('291971', 1.8528000000000002), ('291986', 1.692), ('291998', 1.8768000000000002), ('291999', 1.74), ('292024', 1.8288000000000002), ('292034', 1.8528000000000002), ('292050', 1.692), ('292063', 1.692), ('292120', 1.8768000000000002), ('292132', 1.716), ('292155', 1.62), ('292170', 1.524), ('292173', 1.716), ('292177', 1.716), ('292182', 1.692), ('292184', 1.8288000000000002), ('292193', 1.788), ('292194', 1.8768000000000002), ('292207', 1.74), ('292209', 1.6680000000000001), ('292212', 1.764), ('292219', 1.572), ('292240', 1.6680000000000001), ('292257', 1.9008000000000003), ('292260', 1.8768000000000002), ('292282', 1.788), ('292292', 1.524), ('292306', 1.6680000000000001), ('292312', 1.524), ('292313', 1.74), ('292315', 1.74), ('292321', 1.8288000000000002), ('292328', 1.9488000000000003), ('292332', 1.6680000000000001), ('292348', 1.764), ('292405', 1.764), ('292411', 1.716), ('292416', 1.764), ('292423', 1.8768000000000002), ('292428', 1.764), ('292441', 1.8768000000000002), ('292455', 1.9488000000000003), ('292459', 1.596), ('292479', 1.788), ('292480', 1.9728000000000003), ('292491', 1.74), ('292497', 1.716), ('292503', 1.6440000000000001), ('292512', 1.596), ('292527', 1.8288000000000002), ('292563', 1.764), ('292570', 1.788), ('292597', 1.716), ('292606', 1.764), ('292615', 1.9008000000000003), ('292626', 1.8528000000000002), ('292631', 1.9488000000000003), ('292640', 1.716), ('292646', 1.6680000000000001), ('292661', 1.8528000000000002), ('292673', 1.692), ('292679', 1.8768000000000002), ('292680', 1.692), ('292686', 1.764), ('292688', 1.9728000000000003), ('292690', 1.8288000000000002), ('292699', 1.6680000000000001), ('292700', 1.716), ('292702', 1.716), ('292713', 1.716), ('292716', 1.6680000000000001), ('292728', 1.716), ('292735', 1.788), ('292737', 1.716), ('292741', 1.6680000000000001), ('292751', 1.596), ('292756', 1.764), ('292764', 1.716), ('292765', 1.788), ('292774', 1.716), ('292779', 1.6440000000000001), ('292781', 1.764), ('292825', 1.74), ('292834', 1.788), ('292839', 1.6440000000000001), ('292847', 1.8288000000000002), ('292848', 1.716), ('292861', 1.788), ('292865', 1.788), ('292870', 1.74), ('292885', 1.6680000000000001), ('292900', 1.716), ('292908', 1.764), ('292941', 1.692), ('292959', 1.692), ('292984', 1.8288000000000002), ('293015', 1.788), ('293019', 1.596), ('293027', 1.692), ('293063', 1.692), ('293067', 1.9248000000000003), ('293074', 1.716), ('293091', 1.788), ('293099', 1.788), ('293100', 1.62), ('293101', 1.716), ('293112', 1.8768000000000002), ('293120', 1.716), ('293122', 1.9008000000000003), ('293125', 1.764), ('293126', 1.62), ('293130', 1.716), ('293134', 1.716), ('293136', 1.6680000000000001), ('293154', 1.8288000000000002), ('293160', 1.692), ('293162', 1.6680000000000001), ('293167', 1.9008000000000003), ('293169', 1.6680000000000001), ('293170', 1.764), ('293173', 1.74), ('293177', 1.6680000000000001), ('293178', 1.764), ('293183', 1.788), ('293192', 1.716), ('293204', 1.6680000000000001), ('293219', 1.8288000000000002), ('293221', 1.764), ('293225', 1.692), ('293228', 1.6440000000000001), ('293234', 1.8528000000000002), ('293236', 1.6440000000000001), ('293243', 1.764), ('293250', 1.6680000000000001), ('293254', 1.716), ('293256', 1.6680000000000001), ('293262', 1.74), ('293267', 1.6680000000000001), ('293270', 1.6440000000000001), ('293272', 1.74), ('293273', 1.788), ('293274', 1.788), ('293282', 1.8288000000000002), ('293301', 1.692), ('293302', 1.8288000000000002), ('293325', 1.692), ('293326', 1.74), ('293341', 1.62), ('293345', 1.788), ('293351', 1.788), ('293353', 1.692), ('293364', 1.6680000000000001), ('293380', 1.6680000000000001), ('293383', 1.8768000000000002), ('293385', 1.788), ('293392', 1.8288000000000002), ('293412', 1.764), ('293419', 1.692), ('293428', 1.6440000000000001), ('293439', 1.788), ('293441', 1.8528000000000002), ('293448', 1.716), ('293449', 1.788), ('293458', 1.6680000000000001), ('293461', 1.692), ('293467', 1.692), ('293494', 1.8288000000000002), ('293500', 1.692), ('293501', 1.692), ('293520', 1.8768000000000002), ('293528', 1.692), ('293535', 1.764), ('293536', 1.788), ('293539', 1.9248000000000003), ('293541', 1.74), ('293546', 1.764), ('293574', 1.764), ('293581', 1.6680000000000001), ('293587', 1.8288000000000002), ('293589', 1.692), ('293591', 1.788), ('293599', 1.764), ('293607', 1.9008000000000003), ('293613', 1.74), ('293615', 1.74), ('293619', 1.6440000000000001), ('293624', 1.6680000000000001), ('293625', 1.6440000000000001), ('293626', 1.8288000000000002), ('293634', 1.74), ('293637', 1.8288000000000002), ('293674', 1.74), ('293702', 1.788), ('293719', 1.692), ('293727', 1.6680000000000001), ('293735', 1.74), ('293754', 1.692), ('293757', 1.8768000000000002), ('293764', 1.8288000000000002), ('293789', 1.692), ('293790', 1.8288000000000002), ('293796', 1.788), ('293813', 1.692), ('293814', 1.716), ('293818', 1.74), ('293822', 1.788), ('293826', 1.764), ('293827', 1.788), ('293844', 1.764), ('293851', 1.8768000000000002), ('293856', 1.62), ('293861', 1.764), ('293864', 1.764), ('293870', 1.764), ('293872', 1.8288000000000002), ('293878', 1.596), ('293898', 1.716), ('293899', 1.6680000000000001), ('293900', 1.692), ('293907', 1.8528000000000002), ('293908', 1.764), ('293912', 1.9248000000000003), ('293928', 1.74), ('293929', 1.596), ('293964', 1.524), ('293971', 1.788), ('293974', 1.788), ('293982', 1.74), ('293983', 1.8768000000000002), ('293985', 1.764), ('293988', 1.6680000000000001), ('293990', 1.62), ('294009', 1.692), ('294019', 1.716), ('294020', 1.74), ('294028', 1.692), ('294031', 1.8768000000000002), ('294037', 1.8288000000000002), ('294039', 1.6680000000000001), ('294043', 1.9248000000000003), ('294045', 1.572), ('294055', 1.74), ('294074', 1.74), ('294078', 1.8528000000000002), ('294081', 1.788), ('294082', 1.764), ('294114', 1.716), ('294117', 1.692), ('294125', 1.788), ('294130', 1.764), ('294150', 1.8528000000000002), ('294153', 1.764), ('294162', 1.788), ('294170', 1.8768000000000002), ('294172', 1.9488000000000003), ('294173', 1.692), ('294177', 1.692), ('294178', 1.716), ('294186', 1.716), ('294210', 1.8288000000000002), ('294211', 1.716), ('294212', 1.6440000000000001), ('294215', 1.6680000000000001), ('294224', 1.6680000000000001), ('294240', 1.6440000000000001), ('294243', 1.62), ('294245', 1.6680000000000001), ('294253', 1.8768000000000002), ('294257', 1.716), ('294258', 1.62), ('294267', 1.6440000000000001), ('294278', 1.74), ('294283', 1.6440000000000001), ('294302', 1.764), ('294311', 1.716), ('294315', 1.74), ('294318', 1.9728000000000003), ('294324', 1.6680000000000001), ('294332', 1.524), ('294334', 1.6680000000000001), ('294351', 1.716), ('294361', 1.74), ('294363', 1.716), ('294364', 1.8528000000000002), ('294368', 1.6680000000000001), ('294369', 1.788), ('294376', 1.74), ('294388', 1.8288000000000002), ('294390', 1.764), ('294400', 1.74), ('294407', 1.74), ('294418', 1.764), ('294420', 1.8768000000000002), ('294433', 1.764), ('294438', 1.692), ('294441', 1.716), ('294442', 1.8768000000000002), ('294453', 1.6680000000000001), ('294454', 1.74), ('294466', 1.692), ('294467', 1.62), ('294479', 1.764), ('294509', 1.9248000000000003), ('294516', 1.74), ('294517', 1.8288000000000002), ('294519', 1.6680000000000001), ('294540', 1.74), ('294542', 1.74), ('294545', 1.74), ('294560', 1.8288000000000002), ('294563', 1.764), ('294567', 1.548), ('294572', 1.9008000000000003), ('294581', 1.6440000000000001), ('294584', 1.8528000000000002), ('294587', 1.6440000000000001), ('294588', 1.74), ('294596', 1.716), ('294597', 1.8768000000000002), ('294602', 1.8288000000000002), ('294606', 1.9008000000000003), ('294607', 1.764), ('294611', 1.764), ('294612', 1.692), ('294618', 1.8528000000000002), ('294622', 1.716), ('294623', 1.8288000000000002), ('294627', 1.764), ('294630', 1.548), ('294637', 1.788), ('294642', 1.8528000000000002), ('294656', 1.8528000000000002), ('294658', 1.74), ('294668', 1.572), ('294680', 1.8528000000000002), ('294686', 1.9248000000000003), ('294715', 1.6680000000000001), ('294721', 1.764), ('294722', 1.716), ('294727', 1.6680000000000001), ('294731', 1.764), ('294734', 1.764), ('294747', 1.6440000000000001), ('294748', 1.716), ('294754', 1.74), ('294759', 1.8288000000000002), ('294764', 1.788), ('294767', 1.716), ('294769', 1.6680000000000001), ('294770', 1.6680000000000001), ('294776', 1.716), ('294794', 1.692), ('294796', 1.8528000000000002), ('294802', 1.8768000000000002), ('294803', 1.8288000000000002), ('294804', 1.764), ('294806', 1.716), ('294807', 1.692), ('294808', 1.62), ('294809', 1.6680000000000001), ('294820', 1.716), ('294831', 1.764), ('294833', 1.8528000000000002), ('294836', 1.692), ('294838', 1.8288000000000002), ('294840', 1.8528000000000002), ('294855', 1.692), ('294865', 1.8288000000000002), ('294874', 1.692), ('294882', 1.8768000000000002), ('294888', 1.716), ('294907', 1.8528000000000002), ('294916', 1.6440000000000001), ('294917', 1.8768000000000002), ('294960', 1.716), ('294961', 1.764), ('294966', 1.6680000000000001), ('294968', 1.74), ('294969', 1.8288000000000002), ('294970', 1.74), ('294975', 1.716), ('294984', 1.716), ('294985', 1.8768000000000002), ('294987', 2.8680000000000003), ('294993', 1.6440000000000001), ('295004', 1.8528000000000002), ('295006', 1.8288000000000002), ('295007', 1.74), ('295012', 1.764), ('295013', 1.9008000000000003), ('295016', 1.8288000000000002), ('295020', 1.74), ('295023', 1.62), ('295026', 1.74), ('295033', 1.788), ('295057', 1.8288000000000002), ('295060', 1.6440000000000001), ('295062', 1.764), ('295064', 1.788), ('295067', 1.764), ('295068', 1.9488000000000003), ('295073', 1.8288000000000002), ('295075', 1.8768000000000002), ('295076', 1.8528000000000002), ('295084', 1.74), ('295085', 1.692), ('295087', 1.8288000000000002), ('295092', 1.8768000000000002), ('295106', 1.6680000000000001), ('295107', 1.62), ('295111', 1.548), ('295113', 1.572), ('295115', 1.764), ('295117', 1.74), ('295118', 1.6440000000000001), ('295126', 1.692), ('295132', 1.716), ('295133', 1.74), ('295139', 1.788), ('295140', 1.6680000000000001), ('295143', 1.6440000000000001), ('295144', 1.788), ('295153', 1.764), ('295154', 1.764), ('295160', 1.8288000000000002), ('295162', 1.788), ('295164', 1.716), ('295175', 1.9008000000000003), ('295180', 1.9968000000000001), ('295181', 1.788), ('295182', 1.764), ('295184', 1.74), ('295185', 1.62), ('295202', 1.8528000000000002), ('295212', 1.6440000000000001), ('295216', 1.596), ('295218', 1.74), ('295221', 1.716), ('295228', 1.74), ('295231', 1.8288000000000002), ('295237', 1.6680000000000001), ('295244', 1.9248000000000003), ('295245', 1.764), ('295248', 1.6680000000000001), ('295251', 1.764), ('295257', 1.8528000000000002), ('295264', 1.6440000000000001), ('295266', 1.692), ('295268', 1.74), ('295273', 1.596), ('295277', 1.764), ('295296', 1.764), ('295298', 1.62), ('295300', 1.692), ('295302', 1.8528000000000002), ('295304', 1.716), ('295313', 1.716), ('295318', 1.8288000000000002), ('295331', 1.692), ('295334', 1.764), ('295335', 1.8288000000000002), ('295336', 1.8288000000000002), ('295339', 1.8288000000000002), ('295340', 1.8768000000000002), ('295341', 1.764), ('295345', 1.692), ('295348', 1.572), ('295357', 1.74), ('295364', 1.8288000000000002), ('295368', 1.6440000000000001), ('295371', 1.6680000000000001), ('295374', 1.764), ('295376', 1.8528000000000002), ('295379', 1.764), ('295380', 1.9488000000000003), ('295394', 1.764), ('295401', 1.6440000000000001), ('295403', 1.8288000000000002), ('295407', 1.716), ('295412', 1.6680000000000001), ('295416', 1.788), ('295418', 1.692), ('295431', 1.788), ('295436', 1.74), ('295437', 1.716), ('295439', 1.74), ('295443', 1.788), ('295449', 1.788), ('295455', 1.4832), ('295464', 1.6680000000000001), ('295470', 1.8288000000000002), ('295478', 1.788), ('295486', 1.8768000000000002), ('295490', 1.62), ('295495', 1.788), ('295500', 1.764), ('295506', 1.692), ('295512', 1.8768000000000002), ('295513', 1.8768000000000002), ('295517', 1.6680000000000001), ('295518', 1.764), ('295521', 1.692), ('295530', 1.764), ('295535', 1.74), ('295537', 1.8288000000000002), ('295540', 1.74), ('295543', 1.9008000000000003), ('295544', 1.74), ('295547', 1.788), ('295550', 1.74), ('295551', 1.692), ('295553', 1.788), ('295554', 1.6440000000000001), ('295555', 1.716), ('295556', 1.6680000000000001), ('295559', 1.74), ('295561', 1.596), ('295563', 1.4832), ('295578', 1.6440000000000001), ('295581', 1.764), ('295582', 1.62), ('295584', 1.596), ('295593', 1.6440000000000001), ('295595', 1.764), ('295596', 1.764), ('295600', 1.6680000000000001), ('295602', 1.74), ('295603', 1.6680000000000001), ('295605', 1.74), ('295610', 1.8528000000000002), ('295613', 1.788), ('295619', 1.788), ('295621', 1.6440000000000001), ('295622', 1.524), ('295624', 1.62), ('295626', 1.716), ('295629', 1.8768000000000002), ('295634', 1.692), ('295637', 1.764), ('295638', 1.9008000000000003), ('295647', 1.74), ('295655', 1.9248000000000003), ('295660', 1.788), ('295666', 1.716), ('295669', 1.548), ('295678', 1.788), ('295679', 1.788), ('295680', 1.8288000000000002), ('295687', 1.764), ('295693', 1.9008000000000003), ('295697', 1.4592), ('295699', 1.6440000000000001), ('295700', 1.596), ('295702', 1.74), ('295712', 1.74), ('295719', 1.764), ('295741', 1.764), ('295742', 1.572), ('295745', 1.8528000000000002), ('295753', 1.8288000000000002), ('295755', 1.6440000000000001), ('295775', 1.716), ('295778', 1.74), ('295789', 1.8768000000000002), ('295796', 1.692), ('295800', 1.8288000000000002), ('295802', 1.6440000000000001), ('295804', 1.788), ('295811', 1.764), ('295812', 1.788), ('295813', 1.9008000000000003), ('295815', 1.788), ('295817', 1.74), ('295819', 1.8288000000000002), ('295822', 1.8528000000000002), ('295825', 1.6440000000000001), ('295827', 1.716), ('295830', 1.62), ('295837', 1.9968000000000001), ('295845', 1.764), ('295858', 1.692), ('295859', 1.9248000000000003), ('295860', 1.6680000000000001), ('295866', 1.788), ('295868', 1.764), ('295871', 1.6440000000000001), ('295873', 1.6680000000000001), ('295879', 1.692), ('295880', 1.716), ('295892', 1.6680000000000001), ('295902', 1.6680000000000001), ('295903', 1.788), ('295904', 1.8288000000000002), ('295905', 1.6680000000000001), ('295912', 1.6440000000000001), ('295914', 1.716), ('295915', 1.6680000000000001), ('295926', 1.74), ('295933', 1.692), ('295936', 1.764), ('295937', 1.692), ('295939', 1.6680000000000001), ('295945', 1.9248000000000003), ('295948', 1.692), ('295951', 1.716), ('295954', 1.716), ('295959', 1.764), ('295961', 1.6680000000000001), ('295962', 1.6440000000000001), ('295963', 1.62), ('295964', 1.764), ('295967', 1.764), ('295973', 1.692), ('295977', 1.62), ('295978', 1.788), ('295980', 1.788), ('295982', 1.62), ('295990', 1.8528000000000002), ('295993', 1.62), ('295995', 1.692), ('295998', 1.716), ('296001', 1.8288000000000002), ('296003', 1.74), ('296004', 1.716), ('296005', 1.6680000000000001), ('296008', 1.692), ('296013', 1.6680000000000001), ('296019', 1.788), ('296020', 1.716), ('296027', 1.716), ('296030', 1.692), ('296031', 1.764), ('296036', 1.764), ('296038', 1.692), ('296042', 1.8528000000000002), ('296043', 1.8288000000000002), ('296049', 1.788), ('296051', 1.9728000000000003), ('296052', 1.74), ('296057', 1.8768000000000002), ('296060', 1.74), ('296064', 1.6440000000000001), ('296067', 1.6680000000000001), ('296070', 1.716), ('296071', 1.8528000000000002), ('296074', 1.8288000000000002), ('296080', 1.8288000000000002), ('296082', 1.6440000000000001), ('296083', 1.62), ('296085', 1.6440000000000001), ('296097', 1.8288000000000002), ('296101', 1.8528000000000002), ('296104', 1.9248000000000003), ('296105', 1.62), ('296111', 1.788), ('296116', 1.9008000000000003), ('296122', 1.692), ('296131', 1.74), ('296132', 1.9008000000000003), ('296134', 1.764), ('296138', 1.6680000000000001), ('296140', 1.572), ('296145', 1.9008000000000003), ('296151', 1.788), ('296152', 1.572), ('296154', 1.8528000000000002), ('296159', 1.716), ('296160', 1.548), ('296162', 1.74), ('296167', 1.788), ('296168', 1.596), ('296169', 2.8440000000000003), ('296171', 1.74), ('296172', 1.8528000000000002), ('296173', 1.62), ('296174', 1.74), ('296175', 1.764), ('296176', 1.8528000000000002), ('296194', 1.524), ('296197', 1.716), ('296206', 1.8288000000000002), ('296210', 1.6440000000000001), ('296211', 1.8288000000000002), ('296214', 1.6440000000000001), ('296215', 1.9008000000000003), ('296216', 1.8288000000000002), ('296217', 1.8768000000000002), ('296218', 1.8768000000000002), ('296220', 1.692), ('296222', 1.788), ('296224', 1.596), ('296227', 1.716), ('296229', 1.716), ('296230', 1.764), ('296231', 1.8288000000000002), ('296235', 1.788), ('296238', 1.692), ('296243', 1.62), ('296244', 1.6680000000000001), ('296248', 1.788), ('296250', 1.596), ('296252', 1.6680000000000001), ('296266', 1.62), ('296267', 1.764), ('296268', 1.692), ('296269', 1.716), ('296271', 1.764), ('296272', 1.74), ('296273', 1.764), ('296274', 1.716), ('296275', 1.764), ('296276', 1.8768000000000002), ('296277', 1.716), ('296281', 1.572), ('296282', 1.9008000000000003), ('296283', 1.692), ('296284', 1.8768000000000002), ('296286', 1.596), ('296289', 1.62), ('296292', 1.788), ('296295', 1.9248000000000003), ('296299', 1.788), ('296300', 1.716), ('296302', 1.596), ('296304', 1.8288000000000002), ('296305', 1.9008000000000003), ('296307', 1.764), ('296309', 1.6680000000000001), ('296312', 1.716), ('296314', 1.572), ('296321', 1.692), ('296324', 1.62), ('296326', 1.692), ('296327', 1.6440000000000001), ('296329', 1.6680000000000001), ('296330', 1.8528000000000002), ('296334', 1.8768000000000002), ('296335', 1.692), ('296336', 1.764), ('296337', 1.8288000000000002), ('296338', 1.8288000000000002), ('296339', 1.788), ('296341', 1.692), ('296343', 1.74), ('296344', 1.8288000000000002), ('296345', 1.716), ('296346', 1.764), ('296350', 1.692), ('296355', 1.716), ('296359', 1.8288000000000002), ('296360', 1.8768000000000002), ('296361', 1.692), ('296366', 1.692), ('296369', 1.788), ('296370', 1.74), ('296373', 1.692), ('296374', 2.8920000000000003), ('296381', 1.8288000000000002), ('296382', 1.764), ('296383', 1.788), ('296387', 1.596), ('296390', 1.8288000000000002), ('296392', 1.8528000000000002), ('296393', 1.548), ('296395', 1.8768000000000002), ('296396', 1.74), ('296397', 1.716), ('296400', 1.692), ('296402', 1.8288000000000002), ('296411', 1.6440000000000001), ('296413', 1.716), ('296421', 1.74), ('296424', 1.596), ('296428', 1.8288000000000002), ('296429', 1.716), ('296431', 1.74), ('296432', 1.596), ('296433', 1.6440000000000001), ('296437', 1.62), ('296439', 1.74), ('296441', 1.788), ('296442', 1.692), ('296443', 1.716), ('296445', 1.8288000000000002), ('296446', 1.596), ('296447', 1.6680000000000001), ('296453', 1.716), ('296463', 1.788), ('296469', 1.6440000000000001), ('296471', 1.62), ('296476', 1.9248000000000003), ('296478', 1.6440000000000001), ('296482', 1.8288000000000002), ('296486', 1.596), ('296491', 1.9248000000000003), ('296495', 1.788), ('296498', 1.716), ('296499', 1.764), ('296500', 1.74), ('296501', 1.9008000000000003), ('296504', 1.692), ('296509', 1.692), ('296518', 1.716), ('296519', 1.692), ('296520', 1.788), ('296522', 1.716), ('296523', 1.788), ('296524', 1.692), ('296525', 1.8288000000000002), ('296526', 3.2688), ('296529', 1.596), ('296530', 1.6440000000000001), ('296532', 1.8288000000000002), ('296535', 1.74), ('296536', 1.548), ('296539', 1.8768000000000002), ('296543', 1.6440000000000001), ('296545', 1.6440000000000001), ('296548', 1.692), ('296549', 1.8288000000000002), ('296550', 1.6440000000000001), ('296551', 1.8528000000000002), ('296554', 1.74), ('296555', 1.764)])"
            ]
          },
          "metadata": {
            "tags": []
          },
          "execution_count": 26
        }
      ]
    },
    {
      "cell_type": "markdown",
      "metadata": {
        "id": "IrbUAHfcuovV",
        "colab_type": "text"
      },
      "source": [
        "###Construct dataframe"
      ]
    },
    {
      "cell_type": "code",
      "metadata": {
        "id": "p3VmFORuDz1Y",
        "colab_type": "code",
        "outputId": "a7b29603-0909-4992-9ac3-b4d24496c527",
        "colab": {
          "base_uri": "https://localhost:8080/",
          "height": 437
        }
      },
      "source": [
        "\n",
        "dataBMI = []\n",
        "for root, dirs, files in os.walk(path, topdown=True):\n",
        "  for name in sorted(files):\n",
        "    if '.jpg' not in name:\n",
        "      continue\n",
        "    filename = os.path.abspath(os.path.join(root, name))\n",
        "    \n",
        "    idx = name.find('_')\n",
        "    if idx==-1:\n",
        "      num = name[:name.find('.')]\n",
        "    else:\n",
        "      num = name[idx+1:name.find('.')]\n",
        "    \n",
        "    weight = weightmap[num]\n",
        "    #print(weight)\n",
        "    height = heightmap[num]\n",
        "    #print(height)\n",
        "    BMI = weight/height/height\n",
        "    #print(BMI)\n",
        "    #if weight!=0:\n",
        "    #data.append((filename, weight))\n",
        "    if BMI<22:\n",
        "      dataBMI.append((filename, 0))\n",
        "    elif BMI<27:\n",
        "      dataBMI.append((filename, 1))\n",
        "    else:\n",
        "      dataBMI.append((filename, 2))\n",
        "\n",
        "dfBMI = pd.DataFrame(dataBMI, columns=['filename', 'class'])\n",
        "\n",
        "\n",
        "#shuffle\n",
        "dfBMI = dfBMI.sample(frac=1).reset_index(drop=True)\n",
        "\n",
        "print(dfBMI.head(20))\n",
        "print(len(dfBMI))\n",
        "dfBMI.dtypes"
      ],
      "execution_count": 0,
      "outputs": [
        {
          "output_type": "stream",
          "text": [
            "                                filename  class\n",
            "0        /content/dataset/img/295518.jpg      1\n",
            "1        /content/dataset/img/294907.jpg      2\n",
            "2        /content/dataset/img/296175.jpg      1\n",
            "3        /content/dataset/img/295380.jpg      2\n",
            "4        /content/dataset/img/294584.jpg      2\n",
            "5        /content/dataset/img/296314.jpg      1\n",
            "6   /content/dataset/img/flip_294516.jpg      0\n",
            "7        /content/dataset/img/295237.jpg      1\n",
            "8        /content/dataset/img/294611.jpg      0\n",
            "9   /content/dataset/img/flip_294055.jpg      2\n",
            "10       /content/dataset/img/295437.jpg      1\n",
            "11  /content/dataset/img/flip_293236.jpg      0\n",
            "12  /content/dataset/img/flip_296302.jpg      1\n",
            "13  /content/dataset/img/flip_294150.jpg      0\n",
            "14  /content/dataset/img/flip_294975.jpg      1\n",
            "15       /content/dataset/img/292063.jpg      1\n",
            "16       /content/dataset/img/293898.jpg      2\n",
            "17  /content/dataset/img/flip_294960.jpg      1\n",
            "18  /content/dataset/img/flip_296224.jpg      1\n",
            "19  /content/dataset/img/flip_296509.jpg      1\n",
            "1890\n"
          ],
          "name": "stdout"
        },
        {
          "output_type": "execute_result",
          "data": {
            "text/plain": [
              "filename    object\n",
              "class        int64\n",
              "dtype: object"
            ]
          },
          "metadata": {
            "tags": []
          },
          "execution_count": 27
        }
      ]
    },
    {
      "cell_type": "code",
      "metadata": {
        "id": "YlsoyhRQOQOD",
        "colab_type": "code",
        "colab": {}
      },
      "source": [
        "# Split into train and validation sets\n",
        "\n",
        "dfBMI_val = dfBMI[int(len(df)*train_set_percentage):]\n",
        "dfBMI = dfBMI[:int(len(df)*train_set_percentage)]\n",
        "\n",
        "# shuffle \n",
        "dfBMI = dfBMI.sample(frac=1).reset_index(drop=True)\n",
        "dfBMI_val = dfBMI_val.sample(frac=1).reset_index(drop=True)"
      ],
      "execution_count": 0,
      "outputs": []
    },
    {
      "cell_type": "code",
      "metadata": {
        "id": "PZAUd7XJEsW_",
        "colab_type": "code",
        "outputId": "726f4435-b043-4a8e-9312-bdc119592517",
        "colab": {
          "base_uri": "https://localhost:8080/",
          "height": 34
        }
      },
      "source": [
        "train_datasetBMI = tf.data.Dataset.from_tensor_slices((tf.cast(dfBMI['filename'].values, tf.string),\n",
        "                                                    tf.cast(dfBMI['class'].values, tf.int32) ))\n",
        "train_datasetBMI = train_datasetBMI.map(_parse_function)\n",
        "train_datasetBMI = train_datasetBMI.shuffle(5000)\n",
        "train_datasetBMI = train_datasetBMI.repeat()\n",
        "train_datasetBMI = train_datasetBMI.batch(batch_size, drop_remainder=True)\n",
        "train_datasetBMI"
      ],
      "execution_count": 0,
      "outputs": [
        {
          "output_type": "execute_result",
          "data": {
            "text/plain": [
              "<BatchDataset shapes: ((8, 224, 224, 3), (8, 3)), types: (tf.float32, tf.float32)>"
            ]
          },
          "metadata": {
            "tags": []
          },
          "execution_count": 29
        }
      ]
    },
    {
      "cell_type": "code",
      "metadata": {
        "id": "0juVuwT2HpWh",
        "colab_type": "code",
        "outputId": "597bf7c7-d007-4b6d-ad34-b3c5740df977",
        "colab": {
          "base_uri": "https://localhost:8080/",
          "height": 34
        }
      },
      "source": [
        "valid_datasetBMI = tf.data.Dataset.from_tensor_slices((tf.cast(dfBMI_val['filename'].values, tf.string),\n",
        "                                                    tf.cast(dfBMI_val['class'].values, tf.int32) ))\n",
        "valid_datasetBMI = valid_datasetBMI.map(_parse_function)\n",
        "valid_datasetBMI = valid_datasetBMI.shuffle(5000)\n",
        "valid_datasetBMI = valid_datasetBMI.repeat()\n",
        "valid_datasetBMI = valid_datasetBMI.batch(batch_size, drop_remainder=True)\n",
        "valid_datasetBMI"
      ],
      "execution_count": 0,
      "outputs": [
        {
          "output_type": "execute_result",
          "data": {
            "text/plain": [
              "<BatchDataset shapes: ((8, 224, 224, 3), (8, 3)), types: (tf.float32, tf.float32)>"
            ]
          },
          "metadata": {
            "tags": []
          },
          "execution_count": 30
        }
      ]
    },
    {
      "cell_type": "markdown",
      "metadata": {
        "id": "34yTIw8Wusmy",
        "colab_type": "text"
      },
      "source": [
        "###Construct model"
      ]
    },
    {
      "cell_type": "code",
      "metadata": {
        "id": "TpTdICDkHsQN",
        "colab_type": "code",
        "colab": {}
      },
      "source": [
        "modelBMI = Model(inputs=base_model.input, outputs=predictions)\n",
        "\n",
        "modelBMI.compile(optimizer=opt, loss='categorical_crossentropy',metrics=['accuracy'])"
      ],
      "execution_count": 0,
      "outputs": []
    },
    {
      "cell_type": "code",
      "metadata": {
        "id": "UWvlDcL4Uba0",
        "colab_type": "code",
        "outputId": "96e1e049-cf5b-4bef-edf5-41e98c7ccecd",
        "colab": {
          "base_uri": "https://localhost:8080/",
          "height": 991
        }
      },
      "source": [
        "modelBMI.summary()"
      ],
      "execution_count": 0,
      "outputs": [
        {
          "output_type": "stream",
          "text": [
            "Model: \"model_1\"\n",
            "_________________________________________________________________\n",
            "Layer (type)                 Output Shape              Param #   \n",
            "=================================================================\n",
            "input_1 (InputLayer)         [(None, 224, 224, 3)]     0         \n",
            "_________________________________________________________________\n",
            "block1_conv1 (Conv2D)        (None, 224, 224, 64)      1792      \n",
            "_________________________________________________________________\n",
            "block1_conv2 (Conv2D)        (None, 224, 224, 64)      36928     \n",
            "_________________________________________________________________\n",
            "block1_pool (MaxPooling2D)   (None, 112, 112, 64)      0         \n",
            "_________________________________________________________________\n",
            "block2_conv1 (Conv2D)        (None, 112, 112, 128)     73856     \n",
            "_________________________________________________________________\n",
            "block2_conv2 (Conv2D)        (None, 112, 112, 128)     147584    \n",
            "_________________________________________________________________\n",
            "block2_pool (MaxPooling2D)   (None, 56, 56, 128)       0         \n",
            "_________________________________________________________________\n",
            "block3_conv1 (Conv2D)        (None, 56, 56, 256)       295168    \n",
            "_________________________________________________________________\n",
            "block3_conv2 (Conv2D)        (None, 56, 56, 256)       590080    \n",
            "_________________________________________________________________\n",
            "block3_conv3 (Conv2D)        (None, 56, 56, 256)       590080    \n",
            "_________________________________________________________________\n",
            "block3_pool (MaxPooling2D)   (None, 28, 28, 256)       0         \n",
            "_________________________________________________________________\n",
            "block4_conv1 (Conv2D)        (None, 28, 28, 512)       1180160   \n",
            "_________________________________________________________________\n",
            "block4_conv2 (Conv2D)        (None, 28, 28, 512)       2359808   \n",
            "_________________________________________________________________\n",
            "block4_conv3 (Conv2D)        (None, 28, 28, 512)       2359808   \n",
            "_________________________________________________________________\n",
            "block4_pool (MaxPooling2D)   (None, 14, 14, 512)       0         \n",
            "_________________________________________________________________\n",
            "block5_conv1 (Conv2D)        (None, 14, 14, 512)       2359808   \n",
            "_________________________________________________________________\n",
            "block5_conv2 (Conv2D)        (None, 14, 14, 512)       2359808   \n",
            "_________________________________________________________________\n",
            "block5_conv3 (Conv2D)        (None, 14, 14, 512)       2359808   \n",
            "_________________________________________________________________\n",
            "block5_pool (MaxPooling2D)   (None, 7, 7, 512)         0         \n",
            "_________________________________________________________________\n",
            "global_average_pooling2d (Gl (None, 512)               0         \n",
            "_________________________________________________________________\n",
            "dense (Dense)                (None, 512)               262656    \n",
            "_________________________________________________________________\n",
            "dropout (Dropout)            (None, 512)               0         \n",
            "_________________________________________________________________\n",
            "dense_1 (Dense)              (None, 32)                16416     \n",
            "_________________________________________________________________\n",
            "dropout_1 (Dropout)          (None, 32)                0         \n",
            "_________________________________________________________________\n",
            "dense_2 (Dense)              (None, 3)                 99        \n",
            "=================================================================\n",
            "Total params: 14,993,859\n",
            "Trainable params: 7,358,595\n",
            "Non-trainable params: 7,635,264\n",
            "_________________________________________________________________\n"
          ],
          "name": "stdout"
        }
      ]
    },
    {
      "cell_type": "code",
      "metadata": {
        "id": "E6A24C9YdDTS",
        "colab_type": "code",
        "colab": {}
      },
      "source": [
        "checkpointBMI = ModelCheckpoint('./checkpoints/new_weights_BMI.hdf5', monitor='val_accuracy', verbose=1, save_best_only=True, mode='auto')"
      ],
      "execution_count": 0,
      "outputs": []
    },
    {
      "cell_type": "markdown",
      "metadata": {
        "id": "lajWviPEuv78",
        "colab_type": "text"
      },
      "source": [
        "###Train model"
      ]
    },
    {
      "cell_type": "code",
      "metadata": {
        "id": "t3ku_fBNUepi",
        "colab_type": "code",
        "outputId": "e19d4078-a1aa-4e6a-e93f-8bd4a166b116",
        "colab": {
          "base_uri": "https://localhost:8080/",
          "height": 689
        }
      },
      "source": [
        "historyBMI = modelBMI.fit( train_datasetBMI, \n",
        "                    steps_per_epoch = train_steps,\n",
        "                   epochs = epochs,\n",
        "                   validation_data = valid_datasetBMI,\n",
        "                   validation_steps = val_steps,\n",
        "                   callbacks = [checkpointBMI])"
      ],
      "execution_count": 0,
      "outputs": [
        {
          "output_type": "stream",
          "text": [
            "Epoch 1/10\n",
            "211/212 [============================>.] - ETA: 0s - loss: 0.7898 - accuracy: 0.6481\n",
            "Epoch 00001: val_accuracy improved from -inf to 0.63587, saving model to ./checkpoints/new_weights_BMI.hdf5\n",
            "212/212 [==============================] - 31s 146ms/step - loss: 0.7881 - accuracy: 0.6492 - val_loss: 0.7392 - val_accuracy: 0.6359\n",
            "Epoch 2/10\n",
            "211/212 [============================>.] - ETA: 0s - loss: 0.5587 - accuracy: 0.7547\n",
            "Epoch 00002: val_accuracy improved from 0.63587 to 0.72283, saving model to ./checkpoints/new_weights_BMI.hdf5\n",
            "212/212 [==============================] - 20s 97ms/step - loss: 0.5573 - accuracy: 0.7553 - val_loss: 0.7697 - val_accuracy: 0.7228\n",
            "Epoch 3/10\n",
            "211/212 [============================>.] - ETA: 0s - loss: 0.4650 - accuracy: 0.8063\n",
            "Epoch 00003: val_accuracy did not improve from 0.72283\n",
            "212/212 [==============================] - 20s 94ms/step - loss: 0.4661 - accuracy: 0.8054 - val_loss: 0.8463 - val_accuracy: 0.6793\n",
            "Epoch 4/10\n",
            "211/212 [============================>.] - ETA: 0s - loss: 0.3485 - accuracy: 0.8655\n",
            "Epoch 00004: val_accuracy did not improve from 0.72283\n",
            "212/212 [==============================] - 20s 94ms/step - loss: 0.3485 - accuracy: 0.8656 - val_loss: 0.9547 - val_accuracy: 0.6630\n",
            "Epoch 5/10\n",
            "211/212 [============================>.] - ETA: 0s - loss: 0.2333 - accuracy: 0.9105\n",
            "Epoch 00005: val_accuracy did not improve from 0.72283\n",
            "212/212 [==============================] - 20s 94ms/step - loss: 0.2330 - accuracy: 0.9104 - val_loss: 0.9578 - val_accuracy: 0.6630\n",
            "Epoch 6/10\n",
            "211/212 [============================>.] - ETA: 0s - loss: 0.1784 - accuracy: 0.9443\n",
            "Epoch 00006: val_accuracy did not improve from 0.72283\n",
            "212/212 [==============================] - 20s 94ms/step - loss: 0.1783 - accuracy: 0.9440 - val_loss: 1.1427 - val_accuracy: 0.7120\n",
            "Epoch 7/10\n",
            "211/212 [============================>.] - ETA: 0s - loss: 0.1458 - accuracy: 0.9514\n",
            "Epoch 00007: val_accuracy did not improve from 0.72283\n",
            "212/212 [==============================] - 20s 95ms/step - loss: 0.1468 - accuracy: 0.9511 - val_loss: 1.0418 - val_accuracy: 0.6793\n",
            "Epoch 8/10\n",
            "211/212 [============================>.] - ETA: 0s - loss: 0.1446 - accuracy: 0.9526\n",
            "Epoch 00008: val_accuracy improved from 0.72283 to 0.73370, saving model to ./checkpoints/new_weights_BMI.hdf5\n",
            "212/212 [==============================] - 20s 96ms/step - loss: 0.1440 - accuracy: 0.9528 - val_loss: 0.9595 - val_accuracy: 0.7337\n",
            "Epoch 9/10\n",
            "211/212 [============================>.] - ETA: 0s - loss: 0.1186 - accuracy: 0.9650\n",
            "Epoch 00009: val_accuracy did not improve from 0.73370\n",
            "212/212 [==============================] - 20s 95ms/step - loss: 0.1189 - accuracy: 0.9646 - val_loss: 1.0990 - val_accuracy: 0.6902\n",
            "Epoch 10/10\n",
            "211/212 [============================>.] - ETA: 0s - loss: 0.1125 - accuracy: 0.9615\n",
            "Epoch 00010: val_accuracy improved from 0.73370 to 0.74457, saving model to ./checkpoints/new_weights_BMI.hdf5\n",
            "212/212 [==============================] - 20s 96ms/step - loss: 0.1119 - accuracy: 0.9617 - val_loss: 1.0790 - val_accuracy: 0.7446\n"
          ],
          "name": "stdout"
        }
      ]
    },
    {
      "cell_type": "markdown",
      "metadata": {
        "id": "RePLOxKsux8D",
        "colab_type": "text"
      },
      "source": [
        "###Display result"
      ]
    },
    {
      "cell_type": "code",
      "metadata": {
        "id": "CRa7tIPSUhIA",
        "colab_type": "code",
        "outputId": "35e1fa2e-141e-4adf-c560-d4d8a0fa994e",
        "colab": {
          "base_uri": "https://localhost:8080/",
          "height": 295
        }
      },
      "source": [
        "plot_train(historyBMI)"
      ],
      "execution_count": 0,
      "outputs": [
        {
          "output_type": "display_data",
          "data": {
            "image/png": "[encoded data removed]",
            "text/plain": [
              "<Figure size 432x288 with 1 Axes>"
            ]
          },
          "metadata": {
            "tags": []
          }
        }
      ]
    },
    {
      "cell_type": "code",
      "metadata": {
        "id": "kiyzj6cTUkv7",
        "colab_type": "code",
        "colab": {}
      },
      "source": [
        "modelBMI.load_weights(\"./checkpoints/new_weights_BMI.hdf5\")"
      ],
      "execution_count": 0,
      "outputs": []
    },
    {
      "cell_type": "code",
      "metadata": {
        "id": "sV6IEPWhUp_p",
        "colab_type": "code",
        "colab": {}
      },
      "source": [
        "def predict_BMI(img_path):\n",
        "  img = image.load_img(img_path, target_size=(224, 224))\n",
        "  x = image.img_to_array(img)\n",
        "  x = np.expand_dims(x, axis=0)\n",
        "  x = preprocess_input(x)\n",
        "  print('Input image shape:', x.shape) \n",
        "\n",
        "  preds = modelBMI.predict(x)\n",
        "  print('Predicted:', preds)\n",
        "  if preds[0][0] == preds[0].max():\n",
        "    print(\"This person is light.\")\n",
        "  elif preds[0][1] == preds[0].max():\n",
        "    print(\"This person is normal-weighted.\")\n",
        "  else:\n",
        "    print(\"This person is heavy.\")\n",
        "  Image(img_path)"
      ],
      "execution_count": 0,
      "outputs": []
    },
    {
      "cell_type": "markdown",
      "metadata": {
        "id": "Bwfv243hu5H6",
        "colab_type": "text"
      },
      "source": [
        "### Try celebrity images"
      ]
    },
    {
      "cell_type": "markdown",
      "metadata": {
        "id": "ivT_HZCJ5PAa",
        "colab_type": "text"
      },
      "source": [
        "Bruno Mars: actual weight : 67kg, actual height: 1.63m, BMI: 25.2 (normal-weighted)"
      ]
    },
    {
      "cell_type": "code",
      "metadata": {
        "id": "_0S0iDANUsXX",
        "colab_type": "code",
        "outputId": "51433d5b-291c-4594-d6af-1e53faf7bf7c",
        "colab": {
          "base_uri": "https://localhost:8080/",
          "height": 367
        }
      },
      "source": [
        "img_path = \"brunomars.jpg\"\n",
        "predict_BMI(img_path)\n",
        "Image(img_path)"
      ],
      "execution_count": 0,
      "outputs": [
        {
          "output_type": "stream",
          "text": [
            "Input image shape: (1, 224, 224, 3)\n",
            "Predicted: [[7.3952878e-01 2.6034662e-01 1.2457340e-04]]\n",
            "This person is light.\n"
          ],
          "name": "stdout"
        },
        {
          "output_type": "execute_result",
          "data": {
            "image/jpeg": "[encoded data removed]",
            "text/plain": [
              "<IPython.core.display.Image object>"
            ]
          },
          "metadata": {
            "tags": []
          },
          "execution_count": 38
        }
      ]
    },
    {
      "cell_type": "markdown",
      "metadata": {
        "id": "vJtvd8y_5rKJ",
        "colab_type": "text"
      },
      "source": [
        "Yao ming: actual weight : 141kg, actual height: 2.26m, BMI: 27.6 (heavy)"
      ]
    },
    {
      "cell_type": "code",
      "metadata": {
        "id": "4_4uIc8-UvuG",
        "colab_type": "code",
        "outputId": "577bada1-abba-4685-ce92-d4d8194a9ee0",
        "colab": {
          "base_uri": "https://localhost:8080/",
          "height": 430
        }
      },
      "source": [
        "img_path = \"yaoming.jpg\"\n",
        "predict_weight(img_path)\n",
        "Image(img_path)"
      ],
      "execution_count": 0,
      "outputs": [
        {
          "output_type": "stream",
          "text": [
            "Input image shape: (1, 224, 224, 3)\n",
            "Predicted: [[1.2789929e-05 6.4104535e-02 9.3588263e-01]]\n",
            "This person is heavy.\n"
          ],
          "name": "stdout"
        },
        {
          "output_type": "execute_result",
          "data": {
            "image/jpeg": "[encoded data removed]",
            "text/plain": [
              "<IPython.core.display.Image object>"
            ]
          },
          "metadata": {
            "tags": []
          },
          "execution_count": 39
        }
      ]
    }
  ]
}